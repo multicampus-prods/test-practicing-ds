{
 "cells": [
  {
   "cell_type": "code",
   "execution_count": 1,
   "id": "cordless-spouse",
   "metadata": {},
   "outputs": [],
   "source": [
    "import pandas as pd\n",
    "import numpy as np\n",
    "import warnings\n",
    "\n",
    "warnings.filterwarnings('ignore')\n",
    "\n",
    "from scipy.stats import ttest_ind\n",
    "from sklearn.linear_model import LogisticRegression"
   ]
  },
  {
   "cell_type": "markdown",
   "id": "ancient-portrait",
   "metadata": {},
   "source": [
    "* 여행자 보험 청구 여부를 예측하는 모델을 개발하고자 한다. 데이터셋은 다음과 같다.  \n",
    "\n",
    "    travel_insurance.csv (구분자: 쉼표(,), 63,326 Rows, 12 Columns, UTF-8 Encoding, 결측치 존재(Null, N/A, Empty Cell), Quote 지정(쉼표로 분리된 문자열 존재)\n"
   ]
  },
  {
   "cell_type": "code",
   "execution_count": 4,
   "id": "alleged-commitment",
   "metadata": {},
   "outputs": [
    {
     "name": "stdout",
     "output_type": "stream",
     "text": [
      "\n",
      " 변수목록:  Index(['NO', 'Agency', 'AgencyType', 'DistributionChannel', 'ProductName',\n",
      "       'Claim', 'Duration', 'Destination', 'NetSales', 'Commision', 'Gender',\n",
      "       'Age'],\n",
      "      dtype='object')\n",
      "\n",
      " 데이터 모양:  (63326, 12)\n"
     ]
    }
   ],
   "source": [
    "dat=pd.read_csv('data/travel_insurance2.csv', na_values=['Null','N/A',''])\n",
    "dat.dtypes\n",
    "\n",
    "print('\\n 변수목록: ', dat.columns)\n",
    "\n",
    "print('\\n 데이터 모양: ', dat.shape)"
   ]
  },
  {
   "cell_type": "code",
   "execution_count": 5,
   "id": "silver-denial",
   "metadata": {},
   "outputs": [
    {
     "data": {
      "text/plain": [
       "M    9347\n",
       "F    8872\n",
       "Name: Gender, dtype: int64"
      ]
     },
     "execution_count": 5,
     "metadata": {},
     "output_type": "execute_result"
    }
   ],
   "source": [
    "dat.Gender.value_counts()"
   ]
  },
  {
   "cell_type": "markdown",
   "id": "assigned-inspiration",
   "metadata": {},
   "source": [
    "* 분석 수행하기 전, 다음 전처리 단계들을 순서대로 수행하시오.  \n",
    "\n",
    "    단계 1-1 ProductName, NetSales 변수를 제거하시오."
   ]
  },
  {
   "cell_type": "code",
   "execution_count": 6,
   "id": "musical-cabinet",
   "metadata": {},
   "outputs": [],
   "source": [
    "step1=dat.drop(columns=['ProductName', 'NetSales'])"
   ]
  },
  {
   "cell_type": "markdown",
   "id": "molecular-battle",
   "metadata": {},
   "source": [
    "    단계 1-2. 성별(Gender)에 결측치가 존재한다. 다음 규칙에 따라 성별의 결측치를 보정하시오.  \n",
    "    \n",
    "        If (NO=짝수) then (Gender=’M’) \n",
    "        Else if (NO=홀수) then (Gender=’F’)\n",
    "        Else 성별(Gender)이 결측치가 아닌 경우 현재 값 유지"
   ]
  },
  {
   "cell_type": "code",
   "execution_count": 7,
   "id": "behavioral-flexibility",
   "metadata": {},
   "outputs": [],
   "source": [
    "step2=step1.copy()\n",
    "\n",
    "step2['Gender']=np.where(step2['Gender'].isna(),\n",
    "                        np.where(step2['NO'] % 2 == 0, 'M', 'F' ),\n",
    "                        step2['Gender'])"
   ]
  },
  {
   "cell_type": "code",
   "execution_count": 8,
   "id": "crude-statistics",
   "metadata": {
    "scrolled": true
   },
   "outputs": [
    {
     "data": {
      "text/plain": [
       "0"
      ]
     },
     "execution_count": 8,
     "metadata": {},
     "output_type": "execute_result"
    }
   ],
   "source": [
    "step2['Gender'].isna().sum() # 확인 0"
   ]
  },
  {
   "cell_type": "code",
   "execution_count": 9,
   "id": "announced-delicious",
   "metadata": {},
   "outputs": [],
   "source": [
    "basetable1=step2.copy()"
   ]
  },
  {
   "cell_type": "markdown",
   "id": "ahead-hammer",
   "metadata": {},
   "source": [
    "1. (basetable1 이용) 40대(40<=Age<50)이고 여성(Gender=’F’)인 여행자가 두 번째로 많이 방문하는 여행지 국가(Destination)를 기술하시오  \n",
    "(여행지 국가(Destination)는 대문자로 기술, 예시: ITALY)\n",
    "\n",
    "    정답:\tMALAYSIA"
   ]
  },
  {
   "cell_type": "code",
   "execution_count": 10,
   "id": "adult-idaho",
   "metadata": {},
   "outputs": [
    {
     "data": {
      "text/html": [
       "<div>\n",
       "<style scoped>\n",
       "    .dataframe tbody tr th:only-of-type {\n",
       "        vertical-align: middle;\n",
       "    }\n",
       "\n",
       "    .dataframe tbody tr th {\n",
       "        vertical-align: top;\n",
       "    }\n",
       "\n",
       "    .dataframe thead th {\n",
       "        text-align: right;\n",
       "    }\n",
       "</style>\n",
       "<table border=\"1\" class=\"dataframe\">\n",
       "  <thead>\n",
       "    <tr style=\"text-align: right;\">\n",
       "      <th></th>\n",
       "      <th>NO</th>\n",
       "      <th>Agency</th>\n",
       "      <th>AgencyType</th>\n",
       "      <th>DistributionChannel</th>\n",
       "      <th>Claim</th>\n",
       "      <th>Duration</th>\n",
       "      <th>Destination</th>\n",
       "      <th>Commision</th>\n",
       "      <th>Gender</th>\n",
       "      <th>Age</th>\n",
       "    </tr>\n",
       "  </thead>\n",
       "  <tbody>\n",
       "    <tr>\n",
       "      <th>4</th>\n",
       "      <td>5</td>\n",
       "      <td>CWT</td>\n",
       "      <td>Travel Agency</td>\n",
       "      <td>Online</td>\n",
       "      <td>No</td>\n",
       "      <td>79</td>\n",
       "      <td>ITALY</td>\n",
       "      <td>11.88</td>\n",
       "      <td>F</td>\n",
       "      <td>41</td>\n",
       "    </tr>\n",
       "    <tr>\n",
       "      <th>5</th>\n",
       "      <td>6</td>\n",
       "      <td>JZI</td>\n",
       "      <td>Airlines</td>\n",
       "      <td>Online</td>\n",
       "      <td>No</td>\n",
       "      <td>66</td>\n",
       "      <td>UNITED STATES</td>\n",
       "      <td>42.35</td>\n",
       "      <td>F</td>\n",
       "      <td>44</td>\n",
       "    </tr>\n",
       "    <tr>\n",
       "      <th>8</th>\n",
       "      <td>9</td>\n",
       "      <td>CWT</td>\n",
       "      <td>Travel Agency</td>\n",
       "      <td>Online</td>\n",
       "      <td>No</td>\n",
       "      <td>57</td>\n",
       "      <td>THAILAND</td>\n",
       "      <td>11.88</td>\n",
       "      <td>F</td>\n",
       "      <td>44</td>\n",
       "    </tr>\n",
       "    <tr>\n",
       "      <th>11</th>\n",
       "      <td>12</td>\n",
       "      <td>JZI</td>\n",
       "      <td>Airlines</td>\n",
       "      <td>Online</td>\n",
       "      <td>No</td>\n",
       "      <td>1</td>\n",
       "      <td>MALAYSIA</td>\n",
       "      <td>6.30</td>\n",
       "      <td>M</td>\n",
       "      <td>47</td>\n",
       "    </tr>\n",
       "    <tr>\n",
       "      <th>12</th>\n",
       "      <td>13</td>\n",
       "      <td>KML</td>\n",
       "      <td>Travel Agency</td>\n",
       "      <td>Online</td>\n",
       "      <td>No</td>\n",
       "      <td>53</td>\n",
       "      <td>NORWAY</td>\n",
       "      <td>49.40</td>\n",
       "      <td>F</td>\n",
       "      <td>48</td>\n",
       "    </tr>\n",
       "    <tr>\n",
       "      <th>...</th>\n",
       "      <td>...</td>\n",
       "      <td>...</td>\n",
       "      <td>...</td>\n",
       "      <td>...</td>\n",
       "      <td>...</td>\n",
       "      <td>...</td>\n",
       "      <td>...</td>\n",
       "      <td>...</td>\n",
       "      <td>...</td>\n",
       "      <td>...</td>\n",
       "    </tr>\n",
       "    <tr>\n",
       "      <th>63311</th>\n",
       "      <td>63312</td>\n",
       "      <td>SSI</td>\n",
       "      <td>Airlines</td>\n",
       "      <td>Online</td>\n",
       "      <td>No</td>\n",
       "      <td>96</td>\n",
       "      <td>SINGAPORE</td>\n",
       "      <td>1.66</td>\n",
       "      <td>M</td>\n",
       "      <td>48</td>\n",
       "    </tr>\n",
       "    <tr>\n",
       "      <th>63312</th>\n",
       "      <td>63313</td>\n",
       "      <td>SSI</td>\n",
       "      <td>Airlines</td>\n",
       "      <td>Online</td>\n",
       "      <td>No</td>\n",
       "      <td>61</td>\n",
       "      <td>SINGAPORE</td>\n",
       "      <td>1.84</td>\n",
       "      <td>F</td>\n",
       "      <td>48</td>\n",
       "    </tr>\n",
       "    <tr>\n",
       "      <th>63313</th>\n",
       "      <td>63314</td>\n",
       "      <td>SSI</td>\n",
       "      <td>Airlines</td>\n",
       "      <td>Online</td>\n",
       "      <td>No</td>\n",
       "      <td>60</td>\n",
       "      <td>SINGAPORE</td>\n",
       "      <td>0.74</td>\n",
       "      <td>M</td>\n",
       "      <td>48</td>\n",
       "    </tr>\n",
       "    <tr>\n",
       "      <th>63314</th>\n",
       "      <td>63315</td>\n",
       "      <td>JZI</td>\n",
       "      <td>Airlines</td>\n",
       "      <td>Online</td>\n",
       "      <td>No</td>\n",
       "      <td>59</td>\n",
       "      <td>THAILAND</td>\n",
       "      <td>7.70</td>\n",
       "      <td>F</td>\n",
       "      <td>44</td>\n",
       "    </tr>\n",
       "    <tr>\n",
       "      <th>63322</th>\n",
       "      <td>63323</td>\n",
       "      <td>JZI</td>\n",
       "      <td>Airlines</td>\n",
       "      <td>Online</td>\n",
       "      <td>No</td>\n",
       "      <td>58</td>\n",
       "      <td>CHINA</td>\n",
       "      <td>14.00</td>\n",
       "      <td>F</td>\n",
       "      <td>40</td>\n",
       "    </tr>\n",
       "  </tbody>\n",
       "</table>\n",
       "<p>10032 rows × 10 columns</p>\n",
       "</div>"
      ],
      "text/plain": [
       "          NO Agency     AgencyType DistributionChannel Claim  Duration  \\\n",
       "4          5    CWT  Travel Agency              Online    No        79   \n",
       "5          6    JZI       Airlines              Online    No        66   \n",
       "8          9    CWT  Travel Agency              Online    No        57   \n",
       "11        12    JZI       Airlines              Online    No         1   \n",
       "12        13    KML  Travel Agency              Online    No        53   \n",
       "...      ...    ...            ...                 ...   ...       ...   \n",
       "63311  63312    SSI       Airlines              Online    No        96   \n",
       "63312  63313    SSI       Airlines              Online    No        61   \n",
       "63313  63314    SSI       Airlines              Online    No        60   \n",
       "63314  63315    JZI       Airlines              Online    No        59   \n",
       "63322  63323    JZI       Airlines              Online    No        58   \n",
       "\n",
       "         Destination  Commision Gender  Age  \n",
       "4              ITALY      11.88      F   41  \n",
       "5      UNITED STATES      42.35      F   44  \n",
       "8           THAILAND      11.88      F   44  \n",
       "11          MALAYSIA       6.30      M   47  \n",
       "12            NORWAY      49.40      F   48  \n",
       "...              ...        ...    ...  ...  \n",
       "63311      SINGAPORE       1.66      M   48  \n",
       "63312      SINGAPORE       1.84      F   48  \n",
       "63313      SINGAPORE       0.74      M   48  \n",
       "63314       THAILAND       7.70      F   44  \n",
       "63322          CHINA      14.00      F   40  \n",
       "\n",
       "[10032 rows x 10 columns]"
      ]
     },
     "execution_count": 10,
     "metadata": {},
     "output_type": "execute_result"
    }
   ],
   "source": [
    "basetable1[basetable1.Age.between(40, 50)]"
   ]
  },
  {
   "cell_type": "code",
   "execution_count": 11,
   "id": "false-asthma",
   "metadata": {},
   "outputs": [
    {
     "data": {
      "text/plain": [
       "SINGAPORE             1416\n",
       "MALAYSIA               483\n",
       "THAILAND               473\n",
       "INDONESIA              375\n",
       "AUSTRALIA              350\n",
       "                      ... \n",
       "COLOMBIA                 1\n",
       "GEORGIA                  1\n",
       "NEPAL                    1\n",
       "RUSSIAN FEDERATION       1\n",
       "LATVIA                   1\n",
       "Name: Destination, Length: 73, dtype: int64"
      ]
     },
     "execution_count": 11,
     "metadata": {},
     "output_type": "execute_result"
    }
   ],
   "source": [
    "Q1=basetable1[basetable1.Age.between(40, 50)][basetable1.Gender=='F']\n",
    "Q1_out=Q1.Destination.value_counts()\n",
    "Q1_out"
   ]
  },
  {
   "cell_type": "code",
   "execution_count": 12,
   "id": "existing-broadcasting",
   "metadata": {},
   "outputs": [
    {
     "name": "stdout",
     "output_type": "stream",
     "text": [
      "Q1 정답:  MALAYSIA\n"
     ]
    }
   ],
   "source": [
    "Q1_ans=Q1_out.nlargest(2).index[-1]\n",
    "\n",
    "print('Q1 정답: ', Q1_ans)  # MALAYSIA"
   ]
  },
  {
   "cell_type": "markdown",
   "id": "exterior-female",
   "metadata": {},
   "source": [
    "2. (basetable1 이용) 유통 채널(DistributionChannel)에 따라 여행 기간(Duration)의 평균이 통계적으로 차이가 있는지 적절한 검정을 수행한 후, 검정 통계량(t-value)의 절댓값을 기술하시오.  \n",
    "\n",
    "    - 등분산 가정하고 유의수준 0.05 하에서 양측검정  \n",
    "    - 검정 통계량(t-value)의 절댓값은 소수점 둘째 자리까지만 기술(이후 자리는 버림, 예시: 0.12)  \n",
    "    \n",
    "    정답:\t10.289600869594274\n"
   ]
  },
  {
   "cell_type": "code",
   "execution_count": 13,
   "id": "labeled-straight",
   "metadata": {},
   "outputs": [
    {
     "data": {
      "text/plain": [
       "Online     62219\n",
       "Offline     1107\n",
       "Name: DistributionChannel, dtype: int64"
      ]
     },
     "execution_count": 13,
     "metadata": {},
     "output_type": "execute_result"
    }
   ],
   "source": [
    "basetable1.DistributionChannel.value_counts()"
   ]
  },
  {
   "cell_type": "code",
   "execution_count": 14,
   "id": "prospective-system",
   "metadata": {},
   "outputs": [
    {
     "data": {
      "text/plain": [
       "2         65\n",
       "3         60\n",
       "4         79\n",
       "5         66\n",
       "6         47\n",
       "        ... \n",
       "63321    111\n",
       "63322     58\n",
       "63323      2\n",
       "63324      3\n",
       "63325     22\n",
       "Name: Duration, Length: 62219, dtype: int64"
      ]
     },
     "execution_count": 14,
     "metadata": {},
     "output_type": "execute_result"
    }
   ],
   "source": [
    "basetable1.Duration[basetable1.DistributionChannel=='Online']"
   ]
  },
  {
   "cell_type": "code",
   "execution_count": 15,
   "id": "thousand-motion",
   "metadata": {},
   "outputs": [
    {
     "name": "stdout",
     "output_type": "stream",
     "text": [
      "Q2 정답:  -10.289600869594274\n"
     ]
    }
   ],
   "source": [
    "# from scipy.stats import ttest_ind\n",
    "\n",
    "Q2=ttest_ind(basetable1.Duration[basetable1.DistributionChannel=='Online'],\n",
    "            basetable1.Duration[basetable1.DistributionChannel=='Offline'],\n",
    "            equal_var=True)\n",
    "\n",
    "Q2_ans=Q2.statistic\n",
    "\n",
    "print('Q2 정답: ', Q2_ans)  # -10.289600869594274"
   ]
  },
  {
   "cell_type": "markdown",
   "id": "identified-music",
   "metadata": {},
   "source": [
    "3. (basetable1 이용) 마지막으로 청구(Claim) 여부를 예측하는 로지스틱 회귀 모형을 만들고자 합니다. 다음의 전처리를 수행한 후 분석을 수행하시오.   "
   ]
  },
  {
   "cell_type": "markdown",
   "id": "corporate-sally",
   "metadata": {},
   "source": [
    "    단계 1-3. 범주형 변수인 성별(Gender)와 유통 채널(DistributionChannel)에 대한 가변수(총 2개)를 추가하시오.  \n",
    "\n",
    "        - 가변수화 Hint (Brightics Studio) : One Hot Encoder 사용, Drop Last=True"
   ]
  },
  {
   "cell_type": "code",
   "execution_count": 16,
   "id": "alpine-reality",
   "metadata": {},
   "outputs": [],
   "source": [
    "step3=pd.get_dummies(basetable1, \n",
    "                     columns=['Gender','DistributionChannel'],\n",
    "                     drop_first=True)"
   ]
  },
  {
   "cell_type": "markdown",
   "id": "legal-canal",
   "metadata": {},
   "source": [
    "    단계 1-4. 다음과 같이 Train과 Test 데이터셋을 분리하시오.  \n",
    "\n",
    "        - Train DataSet: NO가 3의 배수가 아닌 데이터\n",
    "        - Test DataSet: NO가 3의 배수인 데이터"
   ]
  },
  {
   "cell_type": "code",
   "execution_count": 17,
   "id": "creative-charge",
   "metadata": {},
   "outputs": [],
   "source": [
    "train=step3[(step3.NO % 3) != 0]\n",
    "test=step3[(step3.NO % 3) == 0]"
   ]
  },
  {
   "cell_type": "code",
   "execution_count": 18,
   "id": "indie-objective",
   "metadata": {},
   "outputs": [
    {
     "data": {
      "text/html": [
       "<div>\n",
       "<style scoped>\n",
       "    .dataframe tbody tr th:only-of-type {\n",
       "        vertical-align: middle;\n",
       "    }\n",
       "\n",
       "    .dataframe tbody tr th {\n",
       "        vertical-align: top;\n",
       "    }\n",
       "\n",
       "    .dataframe thead th {\n",
       "        text-align: right;\n",
       "    }\n",
       "</style>\n",
       "<table border=\"1\" class=\"dataframe\">\n",
       "  <thead>\n",
       "    <tr style=\"text-align: right;\">\n",
       "      <th></th>\n",
       "      <th>NO</th>\n",
       "      <th>Agency</th>\n",
       "      <th>AgencyType</th>\n",
       "      <th>Claim</th>\n",
       "      <th>Duration</th>\n",
       "      <th>Destination</th>\n",
       "      <th>Commision</th>\n",
       "      <th>Age</th>\n",
       "      <th>Gender_M</th>\n",
       "      <th>DistributionChannel_Online</th>\n",
       "    </tr>\n",
       "  </thead>\n",
       "  <tbody>\n",
       "    <tr>\n",
       "      <th>0</th>\n",
       "      <td>1</td>\n",
       "      <td>CBH</td>\n",
       "      <td>Travel Agency</td>\n",
       "      <td>No</td>\n",
       "      <td>186</td>\n",
       "      <td>MALAYSIA</td>\n",
       "      <td>9.57</td>\n",
       "      <td>81</td>\n",
       "      <td>0</td>\n",
       "      <td>0</td>\n",
       "    </tr>\n",
       "    <tr>\n",
       "      <th>1</th>\n",
       "      <td>2</td>\n",
       "      <td>CBH</td>\n",
       "      <td>Travel Agency</td>\n",
       "      <td>No</td>\n",
       "      <td>186</td>\n",
       "      <td>MALAYSIA</td>\n",
       "      <td>9.57</td>\n",
       "      <td>71</td>\n",
       "      <td>0</td>\n",
       "      <td>0</td>\n",
       "    </tr>\n",
       "    <tr>\n",
       "      <th>3</th>\n",
       "      <td>4</td>\n",
       "      <td>CWT</td>\n",
       "      <td>Travel Agency</td>\n",
       "      <td>No</td>\n",
       "      <td>60</td>\n",
       "      <td>AUSTRALIA</td>\n",
       "      <td>23.76</td>\n",
       "      <td>32</td>\n",
       "      <td>1</td>\n",
       "      <td>1</td>\n",
       "    </tr>\n",
       "  </tbody>\n",
       "</table>\n",
       "</div>"
      ],
      "text/plain": [
       "   NO Agency     AgencyType Claim  Duration Destination  Commision  Age  \\\n",
       "0   1    CBH  Travel Agency    No       186    MALAYSIA       9.57   81   \n",
       "1   2    CBH  Travel Agency    No       186    MALAYSIA       9.57   71   \n",
       "3   4    CWT  Travel Agency    No        60   AUSTRALIA      23.76   32   \n",
       "\n",
       "   Gender_M  DistributionChannel_Online  \n",
       "0         0                           0  \n",
       "1         0                           0  \n",
       "3         1                           1  "
      ]
     },
     "execution_count": 18,
     "metadata": {},
     "output_type": "execute_result"
    }
   ],
   "source": [
    "train.head(3)"
   ]
  },
  {
   "cell_type": "code",
   "execution_count": 19,
   "id": "stunning-albany",
   "metadata": {
    "scrolled": true
   },
   "outputs": [
    {
     "data": {
      "text/html": [
       "<div>\n",
       "<style scoped>\n",
       "    .dataframe tbody tr th:only-of-type {\n",
       "        vertical-align: middle;\n",
       "    }\n",
       "\n",
       "    .dataframe tbody tr th {\n",
       "        vertical-align: top;\n",
       "    }\n",
       "\n",
       "    .dataframe thead th {\n",
       "        text-align: right;\n",
       "    }\n",
       "</style>\n",
       "<table border=\"1\" class=\"dataframe\">\n",
       "  <thead>\n",
       "    <tr style=\"text-align: right;\">\n",
       "      <th></th>\n",
       "      <th>NO</th>\n",
       "      <th>Agency</th>\n",
       "      <th>AgencyType</th>\n",
       "      <th>Claim</th>\n",
       "      <th>Duration</th>\n",
       "      <th>Destination</th>\n",
       "      <th>Commision</th>\n",
       "      <th>Age</th>\n",
       "      <th>Gender_M</th>\n",
       "      <th>DistributionChannel_Online</th>\n",
       "    </tr>\n",
       "  </thead>\n",
       "  <tbody>\n",
       "    <tr>\n",
       "      <th>2</th>\n",
       "      <td>3</td>\n",
       "      <td>CWT</td>\n",
       "      <td>Travel Agency</td>\n",
       "      <td>No</td>\n",
       "      <td>65</td>\n",
       "      <td>AUSTRALIA</td>\n",
       "      <td>29.70</td>\n",
       "      <td>32</td>\n",
       "      <td>0</td>\n",
       "      <td>1</td>\n",
       "    </tr>\n",
       "    <tr>\n",
       "      <th>5</th>\n",
       "      <td>6</td>\n",
       "      <td>JZI</td>\n",
       "      <td>Airlines</td>\n",
       "      <td>No</td>\n",
       "      <td>66</td>\n",
       "      <td>UNITED STATES</td>\n",
       "      <td>42.35</td>\n",
       "      <td>44</td>\n",
       "      <td>0</td>\n",
       "      <td>1</td>\n",
       "    </tr>\n",
       "    <tr>\n",
       "      <th>8</th>\n",
       "      <td>9</td>\n",
       "      <td>CWT</td>\n",
       "      <td>Travel Agency</td>\n",
       "      <td>No</td>\n",
       "      <td>57</td>\n",
       "      <td>THAILAND</td>\n",
       "      <td>11.88</td>\n",
       "      <td>44</td>\n",
       "      <td>0</td>\n",
       "      <td>1</td>\n",
       "    </tr>\n",
       "  </tbody>\n",
       "</table>\n",
       "</div>"
      ],
      "text/plain": [
       "   NO Agency     AgencyType Claim  Duration    Destination  Commision  Age  \\\n",
       "2   3    CWT  Travel Agency    No        65      AUSTRALIA      29.70   32   \n",
       "5   6    JZI       Airlines    No        66  UNITED STATES      42.35   44   \n",
       "8   9    CWT  Travel Agency    No        57       THAILAND      11.88   44   \n",
       "\n",
       "   Gender_M  DistributionChannel_Online  \n",
       "2         0                           1  \n",
       "5         0                           1  \n",
       "8         0                           1  "
      ]
     },
     "execution_count": 19,
     "metadata": {},
     "output_type": "execute_result"
    }
   ],
   "source": [
    "test.head(3)"
   ]
  },
  {
   "cell_type": "markdown",
   "id": "nasty-economics",
   "metadata": {},
   "source": [
    "    단계 1-5. Train DataSet으로 로지스틱 회귀분석 모델(Logistic Regression Model)을 학습하시오.  \n",
    "    \n",
    "    - 독립변수(총 5개): Duration, Commision, Age, 성별(Gender)과 유통 채널 \n",
    "                        (DistributionChannel)의 가변수(단계 1-3. 추가)  \n",
    "    - 종속변수: 청구 여부(Claim)  \n",
    "    - 함수 가이드(Brightics Studio) \n",
    "        Inverse of Regularization=100,000, Seed=1234,\n",
    "        Penalty: l2, Solver: newton-cg, 나머지: Default\n"
   ]
  },
  {
   "cell_type": "code",
   "execution_count": 20,
   "id": "polar-valuable",
   "metadata": {},
   "outputs": [
    {
     "data": {
      "text/plain": [
       "Index(['NO', 'Agency', 'AgencyType', 'Claim', 'Duration', 'Destination',\n",
       "       'Commision', 'Age', 'Gender_M', 'DistributionChannel_Online'],\n",
       "      dtype='object')"
      ]
     },
     "execution_count": 20,
     "metadata": {},
     "output_type": "execute_result"
    }
   ],
   "source": [
    "train.columns"
   ]
  },
  {
   "cell_type": "code",
   "execution_count": 21,
   "id": "alleged-apple",
   "metadata": {},
   "outputs": [
    {
     "data": {
      "text/plain": [
       "LogisticRegression(C=100000, random_state=1234, solver='newton-cg')"
      ]
     },
     "execution_count": 21,
     "metadata": {},
     "output_type": "execute_result"
    }
   ],
   "source": [
    "# from sklearn.linear_model import LogisticRegression\n",
    "\n",
    "x_var1=['Duration', 'Commision', 'Age', \n",
    "        'Gender_M', 'DistributionChannel_Online']\n",
    "\n",
    "Q3=LogisticRegression(C=100000, \n",
    "                      random_state=1234,penalty='l2', solver='newton-cg')\n",
    "\n",
    "Q3.fit(train[x_var1], train.Claim)"
   ]
  },
  {
   "cell_type": "markdown",
   "id": "saving-lingerie",
   "metadata": {},
   "source": [
    "단계 1-6. 단계 1-5.에서 학습한 모델을 단계 1-4.에서 분리한 ‘Test DataSet’에 적용하여 청구 확률 (Claim=Yes 일 확률)을 구한 후, Lift 변수를 추가하시오.  \n",
    "\n",
    "        Lift = 청구 확률/0.015  \n",
    "\n",
    "     (※ 0.015: 전체 데이터 셋에서 Claim=Yes인 비율, 반올림 적용)  \n",
    "\n",
    "    데이터셋을 청구 확률 (Claim=Yes 일 확률) 순으로 (내림 차순, DESC ORDER) 정렬한 뒤, 상위 100등 안쪽(<=, 이하)에 포함되는 데이터들에 대한 Lift의 합계를 기술하시오.(Lift의 합계는 정수 부분만 기술(예시: 12)  \n",
    "    \n",
    "    - Hint(Brightics Studio) : rank() over (partition by A order by B desc/asc) 활용\n"
   ]
  },
  {
   "cell_type": "code",
   "execution_count": 22,
   "id": "processed-replication",
   "metadata": {},
   "outputs": [],
   "source": [
    "Q3_out=pd.DataFrame(Q3.predict_proba(test[x_var1])[:,1], columns=['pred_P'])\n",
    "\n",
    "Q3_out['Lift']=Q3_out['pred_P']/0.015"
   ]
  },
  {
   "cell_type": "code",
   "execution_count": 23,
   "id": "consecutive-affect",
   "metadata": {},
   "outputs": [
    {
     "name": "stdout",
     "output_type": "stream",
     "text": [
      "Q3 정답:  1344.105369804768\n"
     ]
    }
   ],
   "source": [
    "Q3_ans=Q3_out['Lift'].nlargest(100).sum()\n",
    "\n",
    "print('Q3 정답: ', Q3_ans)  \n",
    "# 1344.105337707629(brightics)\n",
    "# 1344.105369804768(python)"
   ]
  }
 ],
 "metadata": {
  "kernelspec": {
   "display_name": "Python 3",
   "language": "python",
   "name": "python3"
  },
  "language_info": {
   "codemirror_mode": {
    "name": "ipython",
    "version": 3
   },
   "file_extension": ".py",
   "mimetype": "text/x-python",
   "name": "python",
   "nbconvert_exporter": "python",
   "pygments_lexer": "ipython3",
   "version": "3.8.5"
  }
 },
 "nbformat": 4,
 "nbformat_minor": 5
}
