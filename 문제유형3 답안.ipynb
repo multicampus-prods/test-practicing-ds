{
 "cells": [
  {
   "cell_type": "markdown",
   "id": "animal-creature",
   "metadata": {},
   "source": [
    "# 문제 유형3"
   ]
  },
  {
   "cell_type": "markdown",
   "id": "brown-utilization",
   "metadata": {},
   "source": [
    "* 다음은 영국에 위치한 온라인 쇼핑몰 U사의 2010년~2011년의 판매 데이터이며, \n",
    "  판매 영수증 정보는 다음과 같다.\n",
    "\n",
    "\n",
    "    Online2.txt (구분자: tab, 541,909 Rows, 7 Columns, UTF-8 Encoding)"
   ]
  },
  {
   "cell_type": "code",
   "execution_count": 73,
   "id": "ready-fellowship",
   "metadata": {},
   "outputs": [],
   "source": [
    "import pandas as pd\n",
    "import numpy as np\n",
    "\n",
    "import warnings\n",
    "\n",
    "warnings.filterwarnings('ignore')"
   ]
  },
  {
   "cell_type": "code",
   "execution_count": 2,
   "id": "material-fundamentals",
   "metadata": {
    "scrolled": true
   },
   "outputs": [
    {
     "data": {
      "text/html": [
       "<div>\n",
       "<style scoped>\n",
       "    .dataframe tbody tr th:only-of-type {\n",
       "        vertical-align: middle;\n",
       "    }\n",
       "\n",
       "    .dataframe tbody tr th {\n",
       "        vertical-align: top;\n",
       "    }\n",
       "\n",
       "    .dataframe thead th {\n",
       "        text-align: right;\n",
       "    }\n",
       "</style>\n",
       "<table border=\"1\" class=\"dataframe\">\n",
       "  <thead>\n",
       "    <tr style=\"text-align: right;\">\n",
       "      <th></th>\n",
       "      <th>InvoiceNo</th>\n",
       "      <th>StockCode</th>\n",
       "      <th>Description</th>\n",
       "      <th>Quantity</th>\n",
       "      <th>InvoiceDate</th>\n",
       "      <th>UnitPrice</th>\n",
       "      <th>CustomerID</th>\n",
       "      <th>Country</th>\n",
       "    </tr>\n",
       "  </thead>\n",
       "  <tbody>\n",
       "    <tr>\n",
       "      <th>0</th>\n",
       "      <td>536365</td>\n",
       "      <td>85123A</td>\n",
       "      <td>WHITE HANGING HEART T-LIGHT HOLDER</td>\n",
       "      <td>6</td>\n",
       "      <td>2010-12-01</td>\n",
       "      <td>2.55</td>\n",
       "      <td>17850.0</td>\n",
       "      <td>United Kingdom</td>\n",
       "    </tr>\n",
       "    <tr>\n",
       "      <th>1</th>\n",
       "      <td>536365</td>\n",
       "      <td>71053</td>\n",
       "      <td>WHITE METAL LANTERN</td>\n",
       "      <td>6</td>\n",
       "      <td>2010-12-01</td>\n",
       "      <td>3.39</td>\n",
       "      <td>17850.0</td>\n",
       "      <td>United Kingdom</td>\n",
       "    </tr>\n",
       "    <tr>\n",
       "      <th>2</th>\n",
       "      <td>536365</td>\n",
       "      <td>84406B</td>\n",
       "      <td>CREAM CUPID HEARTS COAT HANGER</td>\n",
       "      <td>8</td>\n",
       "      <td>2010-12-01</td>\n",
       "      <td>2.75</td>\n",
       "      <td>17850.0</td>\n",
       "      <td>United Kingdom</td>\n",
       "    </tr>\n",
       "    <tr>\n",
       "      <th>3</th>\n",
       "      <td>536365</td>\n",
       "      <td>84029G</td>\n",
       "      <td>KNITTED UNION FLAG HOT WATER BOTTLE</td>\n",
       "      <td>6</td>\n",
       "      <td>2010-12-01</td>\n",
       "      <td>3.39</td>\n",
       "      <td>17850.0</td>\n",
       "      <td>United Kingdom</td>\n",
       "    </tr>\n",
       "    <tr>\n",
       "      <th>4</th>\n",
       "      <td>536365</td>\n",
       "      <td>84029E</td>\n",
       "      <td>RED WOOLLY HOTTIE WHITE HEART.</td>\n",
       "      <td>6</td>\n",
       "      <td>2010-12-01</td>\n",
       "      <td>3.39</td>\n",
       "      <td>17850.0</td>\n",
       "      <td>United Kingdom</td>\n",
       "    </tr>\n",
       "    <tr>\n",
       "      <th>...</th>\n",
       "      <td>...</td>\n",
       "      <td>...</td>\n",
       "      <td>...</td>\n",
       "      <td>...</td>\n",
       "      <td>...</td>\n",
       "      <td>...</td>\n",
       "      <td>...</td>\n",
       "      <td>...</td>\n",
       "    </tr>\n",
       "    <tr>\n",
       "      <th>232</th>\n",
       "      <td>536390</td>\n",
       "      <td>22174</td>\n",
       "      <td>PHOTO CUBE</td>\n",
       "      <td>48</td>\n",
       "      <td>2010-12-01</td>\n",
       "      <td>1.48</td>\n",
       "      <td>17511.0</td>\n",
       "      <td>United Kingdom</td>\n",
       "    </tr>\n",
       "    <tr>\n",
       "      <th>233</th>\n",
       "      <td>536390</td>\n",
       "      <td>22969</td>\n",
       "      <td>HOMEMADE JAM SCENTED CANDLES</td>\n",
       "      <td>96</td>\n",
       "      <td>2010-12-01</td>\n",
       "      <td>1.25</td>\n",
       "      <td>17511.0</td>\n",
       "      <td>United Kingdom</td>\n",
       "    </tr>\n",
       "    <tr>\n",
       "      <th>234</th>\n",
       "      <td>536390</td>\n",
       "      <td>85099B</td>\n",
       "      <td>JUMBO BAG RED RETROSPOT</td>\n",
       "      <td>100</td>\n",
       "      <td>2010-12-01</td>\n",
       "      <td>1.65</td>\n",
       "      <td>17511.0</td>\n",
       "      <td>United Kingdom</td>\n",
       "    </tr>\n",
       "    <tr>\n",
       "      <th>235</th>\n",
       "      <td>C536391</td>\n",
       "      <td>22556</td>\n",
       "      <td>PLASTERS IN TIN CIRCUS PARADE</td>\n",
       "      <td>-12</td>\n",
       "      <td>2010-12-01</td>\n",
       "      <td>1.65</td>\n",
       "      <td>17548.0</td>\n",
       "      <td>United Kingdom</td>\n",
       "    </tr>\n",
       "    <tr>\n",
       "      <th>236</th>\n",
       "      <td>C536391</td>\n",
       "      <td>21984</td>\n",
       "      <td>PACK OF 12 PINK PAISLEY TISSUES</td>\n",
       "      <td>-24</td>\n",
       "      <td>2010-12-01</td>\n",
       "      <td>0.29</td>\n",
       "      <td>17548.0</td>\n",
       "      <td>United Kingdom</td>\n",
       "    </tr>\n",
       "  </tbody>\n",
       "</table>\n",
       "<p>237 rows × 8 columns</p>\n",
       "</div>"
      ],
      "text/plain": [
       "    InvoiceNo StockCode                          Description  Quantity  \\\n",
       "0      536365    85123A   WHITE HANGING HEART T-LIGHT HOLDER         6   \n",
       "1      536365     71053                  WHITE METAL LANTERN         6   \n",
       "2      536365    84406B       CREAM CUPID HEARTS COAT HANGER         8   \n",
       "3      536365    84029G  KNITTED UNION FLAG HOT WATER BOTTLE         6   \n",
       "4      536365    84029E       RED WOOLLY HOTTIE WHITE HEART.         6   \n",
       "..        ...       ...                                  ...       ...   \n",
       "232    536390     22174                           PHOTO CUBE        48   \n",
       "233    536390     22969         HOMEMADE JAM SCENTED CANDLES        96   \n",
       "234    536390    85099B              JUMBO BAG RED RETROSPOT       100   \n",
       "235   C536391     22556       PLASTERS IN TIN CIRCUS PARADE        -12   \n",
       "236   C536391     21984     PACK OF 12 PINK PAISLEY TISSUES        -24   \n",
       "\n",
       "    InvoiceDate  UnitPrice  CustomerID         Country  \n",
       "0    2010-12-01       2.55     17850.0  United Kingdom  \n",
       "1    2010-12-01       3.39     17850.0  United Kingdom  \n",
       "2    2010-12-01       2.75     17850.0  United Kingdom  \n",
       "3    2010-12-01       3.39     17850.0  United Kingdom  \n",
       "4    2010-12-01       3.39     17850.0  United Kingdom  \n",
       "..          ...        ...         ...             ...  \n",
       "232  2010-12-01       1.48     17511.0  United Kingdom  \n",
       "233  2010-12-01       1.25     17511.0  United Kingdom  \n",
       "234  2010-12-01       1.65     17511.0  United Kingdom  \n",
       "235  2010-12-01       1.65     17548.0  United Kingdom  \n",
       "236  2010-12-01       0.29     17548.0  United Kingdom  \n",
       "\n",
       "[237 rows x 8 columns]"
      ]
     },
     "execution_count": 2,
     "metadata": {},
     "output_type": "execute_result"
    }
   ],
   "source": [
    "dat=pd.read_csv('Online2.txt', sep='\\t', encoding='UTF-8')\n",
    "dat.head(237)"
   ]
  },
  {
   "cell_type": "code",
   "execution_count": 3,
   "id": "rotary-shock",
   "metadata": {},
   "outputs": [
    {
     "data": {
      "text/plain": [
       "InvoiceNo       object\n",
       "StockCode       object\n",
       "Description     object\n",
       "Quantity         int64\n",
       "InvoiceDate     object\n",
       "UnitPrice      float64\n",
       "CustomerID     float64\n",
       "Country         object\n",
       "dtype: object"
      ]
     },
     "execution_count": 3,
     "metadata": {},
     "output_type": "execute_result"
    }
   ],
   "source": [
    "dat.dtypes"
   ]
  },
  {
   "cell_type": "markdown",
   "id": "involved-stand",
   "metadata": {},
   "source": [
    "* 다음의 전처리를 먼저 수행한 후 분석 진행하시오.  \n",
    "\n",
    "단계 1-1. 영수증 번호(InvoiceNo)가 결측치(Null, NA)인(= 수치형이 아닌 데이터) Row는 제거하시오."
   ]
  },
  {
   "cell_type": "code",
   "execution_count": 4,
   "id": "exclusive-graduation",
   "metadata": {},
   "outputs": [
    {
     "name": "stdout",
     "output_type": "stream",
     "text": [
      "원본 데이터 레코드 수:  541909\n",
      "영수증 번호(InvoiceNo) 결측치 제거 후 레코드 수:  532618\n"
     ]
    }
   ],
   "source": [
    "print('원본 데이터 레코드 수: ', len(dat))\n",
    "\n",
    "step1=dat[dat.InvoiceNo.str.isnumeric()]\n",
    "\n",
    "print('영수증 번호(InvoiceNo) 결측치 제거 후 레코드 수: ', len(step1))"
   ]
  },
  {
   "cell_type": "markdown",
   "id": "driven-decimal",
   "metadata": {},
   "source": [
    "단계 1-2. 물품 단가(UnitPrice) 또는 구매 수량(Quantity)이 0 이하(<=0)인 Row는 제거하시오.\n"
   ]
  },
  {
   "cell_type": "code",
   "execution_count": 5,
   "id": "contemporary-transcription",
   "metadata": {},
   "outputs": [
    {
     "name": "stdout",
     "output_type": "stream",
     "text": [
      "단계 1-2 처리 후 데이터 수:  530103\n"
     ]
    }
   ],
   "source": [
    "step2=step1[(step1.UnitPrice) > 0 & (step1.Quantity >0) ]\n",
    "\n",
    "print('단계 1-2 처리 후 데이터 수: ', len(step2))"
   ]
  },
  {
   "cell_type": "markdown",
   "id": "defined-oracle",
   "metadata": {},
   "source": [
    "단계 1-3. 구매액(변수명: TotOrder) 변수를 추가하시오.  \n",
    " \n",
    "         TotOrder = Quantity*UnitPrice\n"
   ]
  },
  {
   "cell_type": "code",
   "execution_count": 6,
   "id": "coordinated-rocket",
   "metadata": {},
   "outputs": [
    {
     "name": "stdout",
     "output_type": "stream",
     "text": [
      "단계 1-3 처리 후 데이터 수:  530103\n"
     ]
    }
   ],
   "source": [
    "step3=step2.copy()\n",
    "\n",
    "step3['TotOrder']=step3.Quantity*step3.UnitPrice\n",
    "\n",
    "print('단계 1-3 처리 후 데이터 수: ', len(step3))\n",
    "\n",
    "basetable1=step3.copy()"
   ]
  },
  {
   "cell_type": "code",
   "execution_count": 20,
   "id": "automated-series",
   "metadata": {
    "scrolled": true
   },
   "outputs": [
    {
     "data": {
      "text/html": [
       "<div>\n",
       "<style scoped>\n",
       "    .dataframe tbody tr th:only-of-type {\n",
       "        vertical-align: middle;\n",
       "    }\n",
       "\n",
       "    .dataframe tbody tr th {\n",
       "        vertical-align: top;\n",
       "    }\n",
       "\n",
       "    .dataframe thead th {\n",
       "        text-align: right;\n",
       "    }\n",
       "</style>\n",
       "<table border=\"1\" class=\"dataframe\">\n",
       "  <thead>\n",
       "    <tr style=\"text-align: right;\">\n",
       "      <th></th>\n",
       "      <th>InvoiceNo</th>\n",
       "      <th>StockCode</th>\n",
       "      <th>Description</th>\n",
       "      <th>Quantity</th>\n",
       "      <th>InvoiceDate</th>\n",
       "      <th>UnitPrice</th>\n",
       "      <th>CustomerID</th>\n",
       "      <th>Country</th>\n",
       "      <th>TotOrder</th>\n",
       "    </tr>\n",
       "  </thead>\n",
       "  <tbody>\n",
       "    <tr>\n",
       "      <th>0</th>\n",
       "      <td>536365</td>\n",
       "      <td>85123A</td>\n",
       "      <td>WHITE HANGING HEART T-LIGHT HOLDER</td>\n",
       "      <td>6</td>\n",
       "      <td>2010-12-01</td>\n",
       "      <td>2.55</td>\n",
       "      <td>17850.0</td>\n",
       "      <td>United Kingdom</td>\n",
       "      <td>15.30</td>\n",
       "    </tr>\n",
       "    <tr>\n",
       "      <th>1</th>\n",
       "      <td>536365</td>\n",
       "      <td>71053</td>\n",
       "      <td>WHITE METAL LANTERN</td>\n",
       "      <td>6</td>\n",
       "      <td>2010-12-01</td>\n",
       "      <td>3.39</td>\n",
       "      <td>17850.0</td>\n",
       "      <td>United Kingdom</td>\n",
       "      <td>20.34</td>\n",
       "    </tr>\n",
       "    <tr>\n",
       "      <th>2</th>\n",
       "      <td>536365</td>\n",
       "      <td>84406B</td>\n",
       "      <td>CREAM CUPID HEARTS COAT HANGER</td>\n",
       "      <td>8</td>\n",
       "      <td>2010-12-01</td>\n",
       "      <td>2.75</td>\n",
       "      <td>17850.0</td>\n",
       "      <td>United Kingdom</td>\n",
       "      <td>22.00</td>\n",
       "    </tr>\n",
       "    <tr>\n",
       "      <th>3</th>\n",
       "      <td>536365</td>\n",
       "      <td>84029G</td>\n",
       "      <td>KNITTED UNION FLAG HOT WATER BOTTLE</td>\n",
       "      <td>6</td>\n",
       "      <td>2010-12-01</td>\n",
       "      <td>3.39</td>\n",
       "      <td>17850.0</td>\n",
       "      <td>United Kingdom</td>\n",
       "      <td>20.34</td>\n",
       "    </tr>\n",
       "    <tr>\n",
       "      <th>4</th>\n",
       "      <td>536365</td>\n",
       "      <td>84029E</td>\n",
       "      <td>RED WOOLLY HOTTIE WHITE HEART.</td>\n",
       "      <td>6</td>\n",
       "      <td>2010-12-01</td>\n",
       "      <td>3.39</td>\n",
       "      <td>17850.0</td>\n",
       "      <td>United Kingdom</td>\n",
       "      <td>20.34</td>\n",
       "    </tr>\n",
       "  </tbody>\n",
       "</table>\n",
       "</div>"
      ],
      "text/plain": [
       "  InvoiceNo StockCode                          Description  Quantity  \\\n",
       "0    536365    85123A   WHITE HANGING HEART T-LIGHT HOLDER         6   \n",
       "1    536365     71053                  WHITE METAL LANTERN         6   \n",
       "2    536365    84406B       CREAM CUPID HEARTS COAT HANGER         8   \n",
       "3    536365    84029G  KNITTED UNION FLAG HOT WATER BOTTLE         6   \n",
       "4    536365    84029E       RED WOOLLY HOTTIE WHITE HEART.         6   \n",
       "\n",
       "  InvoiceDate  UnitPrice  CustomerID         Country  TotOrder  \n",
       "0  2010-12-01       2.55     17850.0  United Kingdom     15.30  \n",
       "1  2010-12-01       3.39     17850.0  United Kingdom     20.34  \n",
       "2  2010-12-01       2.75     17850.0  United Kingdom     22.00  \n",
       "3  2010-12-01       3.39     17850.0  United Kingdom     20.34  \n",
       "4  2010-12-01       3.39     17850.0  United Kingdom     20.34  "
      ]
     },
     "execution_count": 20,
     "metadata": {},
     "output_type": "execute_result"
    }
   ],
   "source": [
    "basetable1.head(5)"
   ]
  },
  {
   "cell_type": "markdown",
   "id": "geographic-parcel",
   "metadata": {},
   "source": [
    "* 상기 전처리를 완료한 데이터 프레임(데이터 프레임명: basetable1, 530,103 Rows)으로 다음 분석(문제 1~3) 수행\n",
    "\n",
    "1. (basetable1을 이용) ‘영수증 번호(InvoiceNo)별 총 구매액(변수명: InvTotOrder)’의 평균이 국가별로 차이가 있는지 다음의 조건들을 참고하여 검정을 수행하고 이 때의 검정 통계량(F-value)을 기술하시오.  \n",
    "\n",
    "- 하나의 InvoiceNo는 하나의 Country에 대응 \n",
    "- InvTotOrder는 각 InvoiceNo에 대한 TotOrder의 합으로 정의 (19959개)\n",
    "- 국가별 구매 건수(InvoiceNo 수)가 50이상(>=50) 이고 400이하(<=400)인 국가만을 대상으로 검정 수행, 자유도(df)=14\n",
    "- 주어진 데이터는 등분산 조건을 만족한다고 가정\n",
    "- 검정 통계량은 소수점 넷째 자리 이하는 버리고 셋째 자리까지만 기술  (답안 예시) 1.234\n"
   ]
  },
  {
   "cell_type": "code",
   "execution_count": 14,
   "id": "abstract-uniform",
   "metadata": {},
   "outputs": [
    {
     "data": {
      "text/plain": [
       "Index([], dtype='object', name='InvoiceNo')"
      ]
     },
     "execution_count": 14,
     "metadata": {},
     "output_type": "execute_result"
    }
   ],
   "source": [
    "# 하나의 InvoiceNo는 하나의 Country에 대응 확인\n",
    "\n",
    "\n",
    "tab1=pd.crosstab(basetable1.InvoiceNo, basetable1.Country)\n",
    "\n",
    "tab1.index[(tab1 >= 1).sum(axis=1) > 1]"
   ]
  },
  {
   "cell_type": "code",
   "execution_count": 32,
   "id": "demanding-playing",
   "metadata": {},
   "outputs": [
    {
     "data": {
      "text/plain": [
       "19959"
      ]
     },
     "execution_count": 32,
     "metadata": {},
     "output_type": "execute_result"
    }
   ],
   "source": [
    "Q1=pd.pivot_table(index=['InvoiceNo', 'Country'], values=['TotOrder'], \n",
    "                  data=basetable1, aggfunc='sum')\n",
    "len(Q1)"
   ]
  },
  {
   "cell_type": "code",
   "execution_count": 33,
   "id": "obvious-senior",
   "metadata": {},
   "outputs": [
    {
     "data": {
      "text/html": [
       "<div>\n",
       "<style scoped>\n",
       "    .dataframe tbody tr th:only-of-type {\n",
       "        vertical-align: middle;\n",
       "    }\n",
       "\n",
       "    .dataframe tbody tr th {\n",
       "        vertical-align: top;\n",
       "    }\n",
       "\n",
       "    .dataframe thead th {\n",
       "        text-align: right;\n",
       "    }\n",
       "</style>\n",
       "<table border=\"1\" class=\"dataframe\">\n",
       "  <thead>\n",
       "    <tr style=\"text-align: right;\">\n",
       "      <th></th>\n",
       "      <th></th>\n",
       "      <th>TotOrder</th>\n",
       "    </tr>\n",
       "    <tr>\n",
       "      <th>InvoiceNo</th>\n",
       "      <th>Country</th>\n",
       "      <th></th>\n",
       "    </tr>\n",
       "  </thead>\n",
       "  <tbody>\n",
       "    <tr>\n",
       "      <th>536365</th>\n",
       "      <th>United Kingdom</th>\n",
       "      <td>139.12</td>\n",
       "    </tr>\n",
       "    <tr>\n",
       "      <th>536366</th>\n",
       "      <th>United Kingdom</th>\n",
       "      <td>22.20</td>\n",
       "    </tr>\n",
       "    <tr>\n",
       "      <th>536367</th>\n",
       "      <th>United Kingdom</th>\n",
       "      <td>278.73</td>\n",
       "    </tr>\n",
       "  </tbody>\n",
       "</table>\n",
       "</div>"
      ],
      "text/plain": [
       "                          TotOrder\n",
       "InvoiceNo Country                 \n",
       "536365    United Kingdom    139.12\n",
       "536366    United Kingdom     22.20\n",
       "536367    United Kingdom    278.73"
      ]
     },
     "execution_count": 33,
     "metadata": {},
     "output_type": "execute_result"
    }
   ],
   "source": [
    "Q1.head(3)"
   ]
  },
  {
   "cell_type": "code",
   "execution_count": 34,
   "id": "vulnerable-allergy",
   "metadata": {},
   "outputs": [],
   "source": [
    "Q1=Q1.reset_index()"
   ]
  },
  {
   "cell_type": "code",
   "execution_count": 35,
   "id": "lyric-florida",
   "metadata": {},
   "outputs": [
    {
     "name": "stdout",
     "output_type": "stream",
     "text": [
      "Index(['InvoiceNo', 'Country', 'InvTotOrder'], dtype='object')\n"
     ]
    }
   ],
   "source": [
    "Q1.columns.values[-1]='InvTotOrder'\n",
    "print(Q1.columns)"
   ]
  },
  {
   "cell_type": "code",
   "execution_count": 36,
   "id": "dutch-maple",
   "metadata": {},
   "outputs": [
    {
     "name": "stdout",
     "output_type": "stream",
     "text": [
      "Country    Australia  Austria  Bahrain  Belgium  Brazil  Canada  \\\n",
      "InvoiceNo                                                         \n",
      "536365             0        0        0        0       0       0   \n",
      "536366             0        0        0        0       0       0   \n",
      "536367             0        0        0        0       0       0   \n",
      "536368             0        0        0        0       0       0   \n",
      "536369             0        0        0        0       0       0   \n",
      "\n",
      "Country    Channel Islands  Cyprus  Czech Republic  Denmark  ...  RSA  \\\n",
      "InvoiceNo                                                    ...        \n",
      "536365                   0       0               0        0  ...    0   \n",
      "536366                   0       0               0        0  ...    0   \n",
      "536367                   0       0               0        0  ...    0   \n",
      "536368                   0       0               0        0  ...    0   \n",
      "536369                   0       0               0        0  ...    0   \n",
      "\n",
      "Country    Saudi Arabia  Singapore  Spain  Sweden  Switzerland  USA  \\\n",
      "InvoiceNo                                                             \n",
      "536365                0          0      0       0            0    0   \n",
      "536366                0          0      0       0            0    0   \n",
      "536367                0          0      0       0            0    0   \n",
      "536368                0          0      0       0            0    0   \n",
      "536369                0          0      0       0            0    0   \n",
      "\n",
      "Country    United Arab Emirates  United Kingdom  Unspecified  \n",
      "InvoiceNo                                                     \n",
      "536365                        0               7            0  \n",
      "536366                        0               2            0  \n",
      "536367                        0              12            0  \n",
      "536368                        0               4            0  \n",
      "536369                        0               1            0  \n",
      "\n",
      "[5 rows x 38 columns]\n",
      "대상 국가 목록:  ['Austria' 'Canada' 'Denmark' 'European Community' 'Greece' 'Hong Kong'\n",
      " 'Iceland' 'Israel' 'Japan' 'Malta' 'Poland' 'RSA' 'Singapore' 'USA'\n",
      " 'United Arab Emirates']\n"
     ]
    }
   ],
   "source": [
    "# 국가별 구매 건수(InvoiceNo 수)가 50이상(>=50) 이고 400이하(<=400)인 국가만을 대상으로 검정 수행, 자유도(df)=14\n",
    "\n",
    "print(tab1.head(5))\n",
    "\n",
    "country_list=tab1.columns[(tab1.sum() >= 50) & (tab1.sum() <= 400)]\n",
    "\n",
    "print('대상 국가 목록: ', country_list.values)  # 자유도 14\n",
    "\n",
    "\n",
    "\n"
   ]
  },
  {
   "cell_type": "code",
   "execution_count": 38,
   "id": "veterinary-mercy",
   "metadata": {},
   "outputs": [
    {
     "data": {
      "text/plain": [
       "array(['Poland', 'Japan', 'Iceland', 'Denmark', 'Austria', 'Israel',\n",
       "       'Greece', 'Hong Kong', 'Singapore', 'United Arab Emirates',\n",
       "       'Canada', 'USA', 'European Community', 'Malta', 'RSA'],\n",
       "      dtype=object)"
      ]
     },
     "execution_count": 38,
     "metadata": {},
     "output_type": "execute_result"
    }
   ],
   "source": [
    "Q1_1=Q1[Q1.Country.isin(country_list)]\n",
    "\n",
    "Q1_1.Country.unique()"
   ]
  },
  {
   "cell_type": "code",
   "execution_count": 40,
   "id": "green-forward",
   "metadata": {},
   "outputs": [
    {
     "name": "stdout",
     "output_type": "stream",
     "text": [
      "             df        sum_sq       mean_sq         F    PR(>F)\n",
      "Country    14.0  6.414030e+07  4.581450e+06  3.726267  0.000035\n",
      "Residual  120.0  1.475402e+08  1.229501e+06       NaN       NaN\n",
      "\n",
      " Q1 정답:  3.726266561864141\n"
     ]
    }
   ],
   "source": [
    "from statsmodels.formula.api import ols\n",
    "from statsmodels.stats.anova import anova_lm\n",
    "\n",
    "Q1_2=ols('InvTotOrder~Country', Q1_1).fit()\n",
    "Q1_out=anova_lm(Q1_2)\n",
    "print(Q1_out)\n",
    "\n",
    "Q1_ans=Q1_out['F'][0]\n",
    "\n",
    "print('\\n Q1 정답: ',  Q1_ans)  # 3.726266561864141"
   ]
  },
  {
   "cell_type": "markdown",
   "id": "careful-surname",
   "metadata": {},
   "source": [
    "2. (basetable1을 이용)  ‘주문날짜(InvoiceDate)’와 ‘영수증 번호(InvoiceNo)별’ 총 구매액’(InvToOrder, 1번 참고) 테이블을 구성한 후 요일(Weekday)변수를 생성하시오. (InvoiceNo, InvTotOrder Weekday 컬럼을 가지는 데이터 프레임, 19959 rows).  \n",
    "    이 때, 요일별 총 구매액이 상위 20%에 속하는 데이터만을 대상으로 총 구매액의 요일별 평균을 구하시오. 평균이 가장 낮은 요일과 평균 값을 기술하시오  \n",
    "    - 평균 값은 정수 부분만 기술하시오. (답안예시) 일요일, 1\n"
   ]
  },
  {
   "cell_type": "code",
   "execution_count": 42,
   "id": "raising-middle",
   "metadata": {},
   "outputs": [
    {
     "name": "stdout",
     "output_type": "stream",
     "text": [
      "      InvoiceDate InvoiceNo  InvTotOrder Weekday\n",
      "0      2010-12-01    536365       139.12     수요일\n",
      "1      2010-12-01    536366        22.20     수요일\n",
      "2      2010-12-01    536367       278.73     수요일\n",
      "3      2010-12-01    536368        70.05     수요일\n",
      "4      2010-12-01    536369        17.85     수요일\n",
      "...           ...       ...          ...     ...\n",
      "19954  2011-12-09    581583       124.60     금요일\n",
      "19955  2011-12-09    581584       140.64     금요일\n",
      "19956  2011-12-09    581585       329.05     금요일\n",
      "19957  2011-12-09    581586       339.20     금요일\n",
      "19958  2011-12-09    581587       249.45     금요일\n",
      "\n",
      "[19959 rows x 4 columns]\n"
     ]
    }
   ],
   "source": [
    "Q2=basetable1.pivot_table(index=['InvoiceDate', 'InvoiceNo'], values=['TotOrder'], \n",
    "                 aggfunc='sum').reset_index()\n",
    "\n",
    "Q2['Weekday']=pd.to_datetime(Q2.InvoiceDate).dt.day_name(locale='ko_kr')\n",
    "\n",
    "Q2.columns.values[2]='InvTotOrder'\n",
    "\n",
    "print(Q2)"
   ]
  },
  {
   "cell_type": "code",
   "execution_count": 45,
   "id": "cooperative-norway",
   "metadata": {},
   "outputs": [
    {
     "name": "stdout",
     "output_type": "stream",
     "text": [
      "  InvoiceDate InvoiceNo  InvTotOrder Weekday\n",
      "0  2010-12-03    536851      1368.40     금요일\n",
      "1  2010-12-03    536856       754.87     금요일\n",
      "2  2010-12-03    536862      1334.13     금요일\n",
      "3  2010-12-03    536864       636.68     금요일\n",
      "4  2010-12-03    536865      2396.96     금요일\n"
     ]
    }
   ],
   "source": [
    "Q2_2=Q2.groupby('Weekday').apply(lambda x: \n",
    "                                 x[x['InvTotOrder'] > x['InvTotOrder'].quantile(0.8)]).reset_index(drop=True)\n",
    "print(Q2_2.head())\n"
   ]
  },
  {
   "cell_type": "code",
   "execution_count": 51,
   "id": "expired-making",
   "metadata": {},
   "outputs": [],
   "source": [
    "Q2_out=Q2_2.groupby('Weekday')['InvTotOrder'].mean()"
   ]
  },
  {
   "cell_type": "code",
   "execution_count": 53,
   "id": "suburban-alabama",
   "metadata": {},
   "outputs": [
    {
     "name": "stdout",
     "output_type": "stream",
     "text": [
      "\n",
      " Q2 정답:  ['일요일', 942.2479365079362]\n"
     ]
    }
   ],
   "source": [
    "Q2_ans=[Q2_out.idxmin(), Q2_out[Q2_out.idxmin()]]\n",
    "\n",
    "print('\\n Q2 정답: ',  Q2_ans)  #['일요일', 942.2479365079362]"
   ]
  },
  {
   "cell_type": "markdown",
   "id": "incomplete-debut",
   "metadata": {},
   "source": [
    "3. (basetable1을 이용) 구매자(CustomerID)가 주문 날짜(InvoiceDate) 기준으로 동시에 구매한 물품(StockCode)들에 대한 연관성 분석을 다음 조건과 같이 수행하고자 합니다\n",
    "- 분석 대상: 물품 단가(UnitPrice)의 평균이 4 이상(>=4)이고 구매(판매) 수량(Quantity)의 합이 600 이상(>=600)인 물품\n",
    "- 구매자(CustomerID)와 주문 날짜(InvoiceDate)를 기준으로 물품 목록은 동일목록 존재 시 한 품목만 포함\n",
    "- 구매자(CustomerID)와 주문 날짜(InvoiceDate)를 기준으로 한 종류의 물품만을 구매한 구매자는 제외\n",
    "- 연관성 분석 시 구매자(CustomerID)와 주문 날짜(InvoiceDate)를 기준으로 물품목록을 추출한 후 연관성 분석(basket, transaction) 단위로 함\n",
    "Note: 물품(StockCode)의 UnitPrice는 구매 시점마다 상이할 수 있습니다.\n",
    "- 구매자 (CustomerID)를 확인할 수 없는 경우(결측치)는 분석에서 제외합니다.\n",
    "- (Association Rule 모델 가이드) Min Support: 0.01, Min Confidence: 0.01, 그 외: Default\n",
    "\n",
    "연관성 분석 결과 중, 선행(antecedent)과 후행(consequent)이 단일 아이템으로 구성된 rule만 추출하시오. 이 결과를 활용하여, 물품 '23012'을 주문한 고객에게 추천하기 적합한 품목을Lift 기준(내림차순)으로 선정하고, 그 때의 Lift를 기술하시오.\n",
    "- Lift는 소수점 넷째 자리 이하는 버리고 셋째 자리까지만 기술하시오.\n",
    "(답안예시) 1.234\n"
   ]
  },
  {
   "cell_type": "code",
   "execution_count": 60,
   "id": "parliamentary-rebel",
   "metadata": {},
   "outputs": [
    {
     "data": {
      "text/plain": [
       "Index(['Quantity', 'UnitPrice'], dtype='object')"
      ]
     },
     "execution_count": 60,
     "metadata": {},
     "output_type": "execute_result"
    }
   ],
   "source": [
    "Q3=basetable1.pivot_table(index='StockCode', \n",
    "                          values=['UnitPrice', 'Quantity'],\n",
    "                          aggfunc={'UnitPrice': np.mean, 'Quantity': np.sum})\n",
    "\n",
    "Q3.columns"
   ]
  },
  {
   "cell_type": "code",
   "execution_count": 64,
   "id": "pretty-scholar",
   "metadata": {},
   "outputs": [
    {
     "name": "stdout",
     "output_type": "stream",
     "text": [
      "Index(['15056BL', '15056N', '15056P', '20679', '20682', '20685', '20749',\n",
      "       '20750', '20969', '20970',\n",
      "       ...\n",
      "       '84997C', '84997D', '85014A', '85014B', '85048', '85066', '85174',\n",
      "       'DOT', 'M', 'POST'],\n",
      "      dtype='object', name='StockCode', length=274)\n"
     ]
    }
   ],
   "source": [
    "# 물품 단가(UnitPrice)의 평균이 4 이상(>=4)이고 \n",
    "# 구매(판매) 수량(Quantity)의 합이 600 이상(>=600)인 물품\n",
    "\n",
    "filter_StockCode=Q3.index[(Q3.UnitPrice >= 4) & (Q3.Quantity >= 600)]\n",
    "print(filter_StockCode)"
   ]
  },
  {
   "cell_type": "code",
   "execution_count": 66,
   "id": "fantastic-genealogy",
   "metadata": {},
   "outputs": [],
   "source": [
    "Q3_1=basetable1[basetable1.StockCode.isin(filter_StockCode)]"
   ]
  },
  {
   "cell_type": "code",
   "execution_count": 68,
   "id": "executive-moses",
   "metadata": {},
   "outputs": [
    {
     "name": "stdout",
     "output_type": "stream",
     "text": [
      "CustomerID  InvoiceDate\n",
      "12347.0     2010-12-07     [71477, 22725, 22726, 22727, 22728, 22729, 849...\n",
      "            2011-01-26     [22725, 22726, 22727, 22728, 22729, 21041, 210...\n",
      "            2011-04-07                          [22371, 22550, 21041, 22423]\n",
      "            2011-06-09            [23162, 23173, 23174, 22371, 22727, 22725]\n",
      "            2011-08-02                                 [22371, 22727, 22423]\n",
      "                                                 ...                        \n",
      "18283.0     2011-09-05                                                   [M]\n",
      "            2011-10-27                          [23494, 22960, 22625, 22550]\n",
      "            2011-11-10                                               [22619]\n",
      "18287.0     2011-05-22                                               [22752]\n",
      "            2011-10-12                                        [21481, 22114]\n",
      "Name: StockCode, Length: 14111, dtype: object\n"
     ]
    }
   ],
   "source": [
    "# 구매자(CustomerID)와 주문 날짜(InvoiceDate)를 기준으로 \n",
    "# 물품 목록은 동일목록 존재 시 한 품목만 포함\n",
    "\n",
    "Q3_2=Q3_1.groupby(['CustomerID', 'InvoiceDate'])['StockCode'].apply(lambda x: x.unique())\n",
    "print(Q3_2)"
   ]
  },
  {
   "cell_type": "code",
   "execution_count": 70,
   "id": "burning-morning",
   "metadata": {},
   "outputs": [
    {
     "name": "stdout",
     "output_type": "stream",
     "text": [
      "CustomerID  InvoiceDate\n",
      "12347.0     2010-12-07     [71477, 22725, 22726, 22727, 22728, 22729, 849...\n",
      "            2011-01-26     [22725, 22726, 22727, 22728, 22729, 21041, 210...\n",
      "            2011-04-07                          [22371, 22550, 21041, 22423]\n",
      "            2011-06-09            [23162, 23173, 23174, 22371, 22727, 22725]\n",
      "            2011-08-02                                 [22371, 22727, 22423]\n",
      "                                                 ...                        \n",
      "18283.0     2011-06-14                                        [23237, 23240]\n",
      "            2011-06-23                       [84997A, 84997D, 84997B, 23298]\n",
      "            2011-07-14                                 [22327, 23240, 23237]\n",
      "            2011-10-27                          [23494, 22960, 22625, 22550]\n",
      "18287.0     2011-10-12                                        [21481, 22114]\n",
      "Name: StockCode, Length: 11682, dtype: object\n"
     ]
    }
   ],
   "source": [
    "# 구매자(CustomerID)와 주문 날짜(InvoiceDate)를 기준으로 \n",
    "# 한 종류의 물품만을 구매한 구매자는 제외\n",
    "\n",
    "Q3_3=Q3_2[Q3_2.apply(len) > 1]\n",
    "\n",
    "print(Q3_3)"
   ]
  },
  {
   "cell_type": "code",
   "execution_count": 74,
   "id": "fuzzy-sponsorship",
   "metadata": {},
   "outputs": [],
   "source": [
    "# !pip install mlxtend\n",
    "from mlxtend.preprocessing import TransactionEncoder\n",
    "from mlxtend.frequent_patterns import apriori\n",
    "from mlxtend.frequent_patterns import association_rules"
   ]
  },
  {
   "cell_type": "code",
   "execution_count": 98,
   "id": "indian-documentary",
   "metadata": {
    "scrolled": false
   },
   "outputs": [
    {
     "name": "stdout",
     "output_type": "stream",
     "text": [
      "    antecedents consequents  antecedent support  consequent support   support  \\\n",
      "177     (23012)     (23013)            0.016607            0.015152  0.010700   \n",
      "176     (23013)     (23012)            0.015152            0.016607  0.010700   \n",
      "116     (22634)     (22635)            0.017035            0.015323  0.010615   \n",
      "117     (22635)     (22634)            0.015323            0.017035  0.010615   \n",
      "179     (23127)     (23126)            0.014724            0.022770  0.011471   \n",
      "..          ...         ...                 ...                 ...       ...   \n",
      "82      (22423)     (22726)            0.134652            0.066684  0.011043   \n",
      "65      (22423)     (22138)            0.134652            0.070536  0.011299   \n",
      "64      (22138)     (22423)            0.070536            0.134652  0.011299   \n",
      "96      (23298)     (22423)            0.082606            0.134652  0.010786   \n",
      "97      (22423)     (23298)            0.134652            0.082606  0.010786   \n",
      "\n",
      "     confidence       lift  leverage  conviction  \n",
      "177    0.644330  42.525773  0.010449    2.768994  \n",
      "176    0.706215  42.525773  0.010449    3.347319  \n",
      "116    0.623116  40.666124  0.010354    2.612677  \n",
      "117    0.692737  40.666124  0.010354    3.199105  \n",
      "179    0.779070  34.214635  0.011135    4.423251  \n",
      "..          ...        ...       ...         ...  \n",
      "82     0.082009   1.229818  0.002064    1.016694  \n",
      "65     0.083916   1.189694  0.001802    1.014606  \n",
      "64     0.160194   1.189694  0.001802    1.030415  \n",
      "96     0.130570   0.969687 -0.000337    0.995305  \n",
      "97     0.080102   0.969687 -0.000337    0.997278  \n",
      "\n",
      "[224 rows x 9 columns]\n",
      "\n",
      " Q3 정답: \n",
      "      consequents       lift\n",
      "177     (23013)  42.525773\n"
     ]
    }
   ],
   "source": [
    "te = TransactionEncoder()\n",
    "te_ary = te.fit(Q3_3).transform(Q3_3)\n",
    "df = pd.DataFrame(te_ary, columns=te.columns_)\n",
    "\n",
    "frequent_itemsets = apriori(df, min_support=0.01,\n",
    "                            max_len=2, use_colnames=True)\n",
    "\n",
    "Q3_rules=association_rules(frequent_itemsets, \n",
    "                           metric=\"confidence\", min_threshold=0.01)\n",
    "\n",
    "Q3_out=Q3_rules.sort_values(by='lift', ascending=False)\n",
    "print(Q3_out)\n",
    "\n",
    "Q3_ans=Q3_out[Q3_out.antecedents=={'23012'}][['consequents', 'lift']]\n",
    "\n",
    "print('\\n Q3 정답: \\n ',  Q3_ans)\n",
    "# (23013)  42.525773"
   ]
  }
 ],
 "metadata": {
  "kernelspec": {
   "display_name": "Python 3",
   "language": "python",
   "name": "python3"
  },
  "language_info": {
   "codemirror_mode": {
    "name": "ipython",
    "version": 3
   },
   "file_extension": ".py",
   "mimetype": "text/x-python",
   "name": "python",
   "nbconvert_exporter": "python",
   "pygments_lexer": "ipython3",
   "version": "3.8.5"
  }
 },
 "nbformat": 4,
 "nbformat_minor": 5
}
