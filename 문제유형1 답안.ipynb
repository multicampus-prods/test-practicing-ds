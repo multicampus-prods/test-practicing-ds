{
 "cells": [
  {
   "cell_type": "markdown",
   "id": "warming-interval",
   "metadata": {},
   "source": [
    "# 문제 유형1\n",
    "\n",
    "\n",
    "* 다음은 음식 조리 시간 관련 데이터셋이다. 이 데이터셋을 활용하여 음식 조리 시간에 대한 예측을 수행하시오.\n",
    "\n",
    "\n",
    "* 파일명: indian_food2.csv (구분자: 쉼표(,), 255 행, 10 컬럼, UTF-8 Encoding, 결측치: Empty string)\n"
   ]
  },
  {
   "cell_type": "code",
   "execution_count": 1,
   "id": "flying-preservation",
   "metadata": {},
   "outputs": [],
   "source": [
    "# 패키지 로딩\n",
    "\n",
    "import pandas as pd\n",
    "import numpy as np\n",
    "import warnings\n",
    "warnings.filterwarnings('ignore')"
   ]
  },
  {
   "cell_type": "code",
   "execution_count": 2,
   "id": "arbitrary-snake",
   "metadata": {},
   "outputs": [
    {
     "name": "stdout",
     "output_type": "stream",
     "text": [
      "Index(['id', 'name', 'ingredients', 'diet', 'prep_time', 'cook_time',\n",
      "       'flavor_profile', 'course', 'state', 'region'],\n",
      "      dtype='object')\n",
      "id                 int64\n",
      "name              object\n",
      "ingredients       object\n",
      "diet              object\n",
      "prep_time          int64\n",
      "cook_time          int64\n",
      "flavor_profile    object\n",
      "course            object\n",
      "state             object\n",
      "region            object\n",
      "dtype: object\n"
     ]
    }
   ],
   "source": [
    "dat=pd.read_csv('data/indian_food2.csv', na_values=['nan', 'NA',' ','']) # na_values=[' ','']\n",
    "print(dat.columns)\n",
    "print(dat.dtypes)"
   ]
  },
  {
   "cell_type": "markdown",
   "id": "existing-norfolk",
   "metadata": {},
   "source": [
    "* 다음의 전처리를 먼저 수행한 후 분석 진행하시오."
   ]
  },
  {
   "cell_type": "code",
   "execution_count": 3,
   "id": "varied-premises",
   "metadata": {},
   "outputs": [],
   "source": [
    "# 단계 1-1. 지역(state) 컬럼을 제거하시오.\n",
    "\n",
    "pre1=dat.drop(columns='state')"
   ]
  },
  {
   "cell_type": "code",
   "execution_count": 4,
   "id": "continent-blond",
   "metadata": {},
   "outputs": [
    {
     "data": {
      "text/plain": [
       "225"
      ]
     },
     "execution_count": 4,
     "metadata": {},
     "output_type": "execute_result"
    }
   ],
   "source": [
    "# 단계 1-2. 조리 시간(cook_time)과 재료 준비 시간(prep_time)이 양수(>0)인 데이터만 추출하시오.\n",
    "\n",
    "pre2=pre1[(pre1['cook_time'] > 0)]\n",
    "pre2=pre2[(pre2['prep_time'] > 0)]\n",
    "len(pre2)"
   ]
  },
  {
   "cell_type": "code",
   "execution_count": 5,
   "id": "blond-receiver",
   "metadata": {},
   "outputs": [
    {
     "data": {
      "text/plain": [
       "212"
      ]
     },
     "execution_count": 5,
     "metadata": {},
     "output_type": "execute_result"
    }
   ],
   "source": [
    "# 단계 1-3. region의 값이  “-1”인 경우와 빈문자(empty string)는 제거한 후 ‘North East’ 지역을 ‘North’로 변경하시오.\n",
    "\n",
    "pre3=pre2[~(pre2.region.isin(['-1','', ' ']))]\n",
    "pre3=pre3.dropna()\n",
    "pre3.loc[pre3.region=='North East', 'region']='North'\n",
    "len(pre3)"
   ]
  },
  {
   "cell_type": "code",
   "execution_count": 6,
   "id": "moving-barrel",
   "metadata": {},
   "outputs": [],
   "source": [
    "# 단계 1-4. 음식 맛 구분(flavor_profile)을 다음과 같이 2가지로 정리한 변수(변수명: ed_flavor_profile)를 추가하시오.\n",
    "# IF flavor_profile= ‘sweet’ then ‘sweet’ else ‘not sweet’\n",
    "\n",
    "pre4=pre3.copy()\n",
    "\n",
    "pre4['ed_flavor_profile']=np.where(pre4.flavor_profile == 'sweet', 'sweet', 'not sweet')\n"
   ]
  },
  {
   "cell_type": "code",
   "execution_count": 7,
   "id": "metric-masters",
   "metadata": {},
   "outputs": [],
   "source": [
    "# 단계 1-5. 음식 종류(course)를 2가지로 정리한 변수(변수명: ed_course)를 추가하시오.\n",
    "# IF course = ‘main course ‘ then ‘main course’ else ‘not main course’\n",
    "pre4['ed_course']=np.where(pre4.course == 'main course', 'main course', 'not main course')"
   ]
  },
  {
   "cell_type": "code",
   "execution_count": 8,
   "id": "revised-portugal",
   "metadata": {
    "scrolled": true
   },
   "outputs": [
    {
     "name": "stdout",
     "output_type": "stream",
     "text": [
      "0                      Maida flour, yogurt, oil, sugar\n",
      "1                              Gram flour, ghee, sugar\n",
      "2         Carrots, milk, sugar, ghee, cashews, raisins\n",
      "3    Flour, ghee, kewra, milk, clarified butter, su...\n",
      "4    Milk powder, plain flour, baking powder, ghee,...\n",
      "Name: ingredients, dtype: object\n",
      "0     4\n",
      "1     3\n",
      "2     6\n",
      "3    10\n",
      "4     8\n",
      "Name: ingredients_no, dtype: int64\n"
     ]
    }
   ],
   "source": [
    "# 단계 1-6. 재료 목록(ingredients)를 이용하여 재료 수 변수(변수명: ingredients_no)를 추가하시오.\n",
    "#  예: 고추장, 마늘  ingredients_no=2\n",
    "pre4['ingredients_no']=pre4['ingredients'].apply(lambda x: len(str(x).split(',')))\n",
    "print(pre4['ingredients'].head(5))\n",
    "print(pre4['ingredients_no'].head(5))\n",
    "\n",
    "basetable1=pre4.copy()"
   ]
  },
  {
   "cell_type": "code",
   "execution_count": 9,
   "id": "hungry-porter",
   "metadata": {},
   "outputs": [
    {
     "data": {
      "text/plain": [
       "212"
      ]
     },
     "execution_count": 9,
     "metadata": {},
     "output_type": "execute_result"
    }
   ],
   "source": [
    "len(basetable1)"
   ]
  },
  {
   "cell_type": "markdown",
   "id": "patent-above",
   "metadata": {},
   "source": [
    "* 상기 전처리를 완료한 데이터 프레임(데이터 프레임명: basetable1, 212 Rows)으로 다음 분석(문제 1~3) 수행\n",
    "\n",
    "1. (basetable1을 이용) 2범주로 정리된 음식 맛(ed_flavor_profile)과 5개로 정리된 음식 지역(region) 간에 통계적으로 유의미한 차이가 있는지 적절한 검정을 수행하고, 검정 결과 중 검정 통계량을 기술하시오.  \n",
    "- 검정 통계량은 소수점 넷째 자리 이하는 버리고 소수점 셋째 자리까지 기술.  \n",
    "(답안 예시) 0.123"
   ]
  },
  {
   "cell_type": "code",
   "execution_count": 10,
   "id": "extraordinary-watershed",
   "metadata": {
    "scrolled": true
   },
   "outputs": [
    {
     "name": "stdout",
     "output_type": "stream",
     "text": [
      "(22.689047335851807, 0.0001460865752415348, 4, array([[ 1.95283019, 17.5754717 , 39.70754717, 35.80188679, 42.96226415],\n",
      "       [ 1.04716981,  9.4245283 , 21.29245283, 19.19811321, 23.03773585]]))\n",
      "\n",
      " Q1 정답:  22.689047335851807\n"
     ]
    }
   ],
   "source": [
    "from scipy.stats import chi2_contingency\n",
    "\n",
    "Q1=pd.crosstab(index=basetable1.ed_flavor_profile, columns=basetable1.region)\n",
    "\n",
    "Q1_out=chi2_contingency(Q1)\n",
    "\n",
    "print(Q1_out)\n",
    "\n",
    "Q1_ans=Q1_out[0]\n",
    "\n",
    "print('\\n Q1 정답: ', Q1_ans )  # 22.689047335851807"
   ]
  },
  {
   "cell_type": "markdown",
   "id": "german-workplace",
   "metadata": {},
   "source": [
    "2. (basetable1을 이용) 5개 지역(region)에 따라 재료 준비 시간(prep_time)의 평균이 통계적으로 유의미한 차이가 있는지 적절한 검정을 수행하고, 검정 결과 중 유의 확률(P-Value) 값을 기술하시오.\n",
    "\n",
    "- 주어진 데이터는 등분산성을 가정하며, 유의 확률(P-Value) 값은 소수점 넷째 자리 이하는 버리고 소수점 셋째 자리까지 기술.  \n",
    "(답안 예시) 0.123"
   ]
  },
  {
   "cell_type": "code",
   "execution_count": 11,
   "id": "empirical-joseph",
   "metadata": {},
   "outputs": [
    {
     "name": "stdout",
     "output_type": "stream",
     "text": [
      "              df        sum_sq       mean_sq         F    PR(>F)\n",
      "C(region)    4.0  5.409888e+04  13524.720512  2.254672  0.064429\n",
      "Residual   207.0  1.241696e+06   5998.531150       NaN       NaN\n",
      "\n",
      " Q2 정답:  0.06442857691647358\n"
     ]
    }
   ],
   "source": [
    "from statsmodels.formula.api import ols\n",
    "from statsmodels.stats.anova import anova_lm\n",
    "\n",
    "Q2=ols('prep_time~C(region)', basetable1).fit()\n",
    "Q2_out=anova_lm(Q2)\n",
    "\n",
    "print(Q2_out)\n",
    "\n",
    "Q2_ans=Q2_out['PR(>F)'][0]\n",
    "\n",
    "print('\\n Q2 정답: ', Q2_ans)  # 0.06442857691647358"
   ]
  },
  {
   "cell_type": "markdown",
   "id": "greenhouse-uruguay",
   "metadata": {},
   "source": [
    "3. (basetable1을 이용) 음식 조리 시간(cook_time)을 예측하는 모델을 생성하고자 한다. 이를 위하여 basetable1에 다음의 전처리를 추가로 수행하시오.  \n",
    "\n",
    "\n",
    "단계 1-7. 다음 변수들을 추가하시오(총 2개).  \n",
    "\n",
    "- ed_course으로부터 생성한 가변수(1개), ed_flavor_profile로부터 생성한 가변수(1개)\n"
   ]
  },
  {
   "cell_type": "code",
   "execution_count": 12,
   "id": "united-found",
   "metadata": {},
   "outputs": [
    {
     "name": "stdout",
     "output_type": "stream",
     "text": [
      "Index(['id', 'name', 'ingredients', 'diet', 'prep_time', 'cook_time',\n",
      "       'flavor_profile', 'course', 'region', 'ingredients_no',\n",
      "       'ed_course_not main course', 'ed_flavor_profile_sweet'],\n",
      "      dtype='object')\n"
     ]
    }
   ],
   "source": [
    "step7=pd.get_dummies(basetable1, \n",
    "                     columns=['ed_course', 'ed_flavor_profile'], \n",
    "                     drop_first=True)\n",
    "\n",
    "print(step7.columns)"
   ]
  },
  {
   "cell_type": "markdown",
   "id": "legitimate-dover",
   "metadata": {},
   "source": [
    "단계 1-8. 음식 조리 시간(cook_time) 예측을 위한 선형 회귀 모형을 생성하고자 한다. 다음 가이드에 따라 Train Data로 학습시킨 모형을 Test Data에 적용하여 음식 조리 시간(cook_time)을 예측하시오.  \n",
    "\n",
    "- Train Data: id가 3의 배수가 아닌 데이터, Test Data: id가 3의 배수인 데이터  \n",
    "- 독립변수(3개): 단계 1-7의 가변수들(2개), prep_time  \n"
   ]
  },
  {
   "cell_type": "code",
   "execution_count": 13,
   "id": "through-pasta",
   "metadata": {},
   "outputs": [],
   "source": [
    "train=step7[(step7.id % 3) != 0]\n",
    "test=step7[(step7.id % 3) == 0]\n",
    "\n",
    "x_list=['ed_course_not main course', 'ed_flavor_profile_sweet', 'prep_time']"
   ]
  },
  {
   "cell_type": "code",
   "execution_count": 14,
   "id": "sixth-february",
   "metadata": {},
   "outputs": [],
   "source": [
    "from sklearn.linear_model import LinearRegression\n",
    "\n",
    "lm=LinearRegression().fit(train[x_list], train['cook_time'])\n",
    "\n",
    "Q3_out=lm.predict(test[x_list])"
   ]
  },
  {
   "cell_type": "code",
   "execution_count": 15,
   "id": "polar-relay",
   "metadata": {},
   "outputs": [],
   "source": [
    "from statsmodels.api import OLS, add_constant\n",
    "\n",
    "train1=add_constant(train[x_list])\n",
    "test1=add_constant(test[x_list])\n",
    "\n",
    "lm1=OLS(train['cook_time'], train1).fit()\n",
    "Q3_out=lm1.predict(test1)"
   ]
  },
  {
   "cell_type": "markdown",
   "id": "abroad-oklahoma",
   "metadata": {},
   "source": [
    "생성한 회귀 분석 모델을 Test Data에 적용하여 음식 조리 시간(cook_time)를 예측한 후\n",
    "예측값들에 대한 평균제곱근오차(Root Mean Square Error, RMSE)를 기술하시오.  \n",
    "\n",
    "- RMSE는 소수점 둘째 자리 이하는 버리고 소수점 첫째 자리까지 기술. (답안 예시) 1.2\n"
   ]
  },
  {
   "cell_type": "code",
   "execution_count": 16,
   "id": "split-berkeley",
   "metadata": {},
   "outputs": [
    {
     "name": "stdout",
     "output_type": "stream",
     "text": [
      "\n",
      " Q3 정답:  83.29102970312529\n"
     ]
    }
   ],
   "source": [
    "from sklearn.metrics import mean_squared_error\n",
    "\n",
    "Q3_ans=np.sqrt(mean_squared_error(test['cook_time'], Q3_out))\n",
    "print('\\n Q3 정답: ', Q3_ans)  # 82.72581919372088"
   ]
  },
  {
   "cell_type": "code",
   "execution_count": null,
   "id": "sized-fitting",
   "metadata": {},
   "outputs": [],
   "source": []
  }
 ],
 "metadata": {
  "kernelspec": {
   "display_name": "Python 3",
   "language": "python",
   "name": "python3"
  },
  "language_info": {
   "codemirror_mode": {
    "name": "ipython",
    "version": 3
   },
   "file_extension": ".py",
   "mimetype": "text/x-python",
   "name": "python",
   "nbconvert_exporter": "python",
   "pygments_lexer": "ipython3",
   "version": "3.8.5"
  }
 },
 "nbformat": 4,
 "nbformat_minor": 5
}
