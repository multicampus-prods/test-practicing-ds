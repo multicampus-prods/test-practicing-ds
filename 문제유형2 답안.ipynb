{
 "cells": [
  {
   "cell_type": "markdown",
   "id": "numerical-wallace",
   "metadata": {},
   "source": [
    "# 문제 유형2"
   ]
  },
  {
   "cell_type": "markdown",
   "id": "perceived-cardiff",
   "metadata": {},
   "source": [
    "보험사에서 고객(총 29,132명) 신상 정보와 21개의 보험 상품 구매 정보를 이용하여 보험 상품 추천 시스템을 개발하고자 하며, \n",
    "제공된 데이터셋 정보는 다음과 같다.  \n",
    "\n",
    "Train2.csv (구분자: “,”(Comma), 29,132 Rows, 26 Columns, UTF-8 Encoding)\n"
   ]
  },
  {
   "cell_type": "code",
   "execution_count": 1,
   "id": "gentle-mauritius",
   "metadata": {},
   "outputs": [
    {
     "data": {
      "text/html": [
       "<div>\n",
       "<style scoped>\n",
       "    .dataframe tbody tr th:only-of-type {\n",
       "        vertical-align: middle;\n",
       "    }\n",
       "\n",
       "    .dataframe tbody tr th {\n",
       "        vertical-align: top;\n",
       "    }\n",
       "\n",
       "    .dataframe thead th {\n",
       "        text-align: right;\n",
       "    }\n",
       "</style>\n",
       "<table border=\"1\" class=\"dataframe\">\n",
       "  <thead>\n",
       "    <tr style=\"text-align: right;\">\n",
       "      <th></th>\n",
       "      <th>ID</th>\n",
       "      <th>join_date</th>\n",
       "      <th>sex</th>\n",
       "      <th>birth_year</th>\n",
       "      <th>branch_code</th>\n",
       "      <th>P1</th>\n",
       "      <th>P2</th>\n",
       "      <th>P3</th>\n",
       "      <th>P4</th>\n",
       "      <th>P5</th>\n",
       "      <th>...</th>\n",
       "      <th>P12</th>\n",
       "      <th>P13</th>\n",
       "      <th>P14</th>\n",
       "      <th>P15</th>\n",
       "      <th>P16</th>\n",
       "      <th>P17</th>\n",
       "      <th>P18</th>\n",
       "      <th>P19</th>\n",
       "      <th>P20</th>\n",
       "      <th>P21</th>\n",
       "    </tr>\n",
       "  </thead>\n",
       "  <tbody>\n",
       "    <tr>\n",
       "      <th>0</th>\n",
       "      <td>4WKQSBB</td>\n",
       "      <td>1/2/2019</td>\n",
       "      <td>F</td>\n",
       "      <td>1987</td>\n",
       "      <td>1X1H</td>\n",
       "      <td>0</td>\n",
       "      <td>0</td>\n",
       "      <td>0</td>\n",
       "      <td>0</td>\n",
       "      <td>0</td>\n",
       "      <td>...</td>\n",
       "      <td>0</td>\n",
       "      <td>0</td>\n",
       "      <td>0</td>\n",
       "      <td>1</td>\n",
       "      <td>0</td>\n",
       "      <td>0</td>\n",
       "      <td>0</td>\n",
       "      <td>0</td>\n",
       "      <td>0</td>\n",
       "      <td>0</td>\n",
       "    </tr>\n",
       "    <tr>\n",
       "      <th>1</th>\n",
       "      <td>CP5S02H</td>\n",
       "      <td>1/6/2019</td>\n",
       "      <td>F</td>\n",
       "      <td>1981</td>\n",
       "      <td>UAOD</td>\n",
       "      <td>0</td>\n",
       "      <td>0</td>\n",
       "      <td>0</td>\n",
       "      <td>0</td>\n",
       "      <td>0</td>\n",
       "      <td>...</td>\n",
       "      <td>0</td>\n",
       "      <td>0</td>\n",
       "      <td>0</td>\n",
       "      <td>1</td>\n",
       "      <td>0</td>\n",
       "      <td>0</td>\n",
       "      <td>0</td>\n",
       "      <td>0</td>\n",
       "      <td>0</td>\n",
       "      <td>0</td>\n",
       "    </tr>\n",
       "    <tr>\n",
       "      <th>2</th>\n",
       "      <td>2YKDILJ</td>\n",
       "      <td>1/6/2013</td>\n",
       "      <td>M</td>\n",
       "      <td>1991</td>\n",
       "      <td>748L</td>\n",
       "      <td>0</td>\n",
       "      <td>0</td>\n",
       "      <td>0</td>\n",
       "      <td>0</td>\n",
       "      <td>0</td>\n",
       "      <td>...</td>\n",
       "      <td>0</td>\n",
       "      <td>0</td>\n",
       "      <td>0</td>\n",
       "      <td>0</td>\n",
       "      <td>0</td>\n",
       "      <td>0</td>\n",
       "      <td>0</td>\n",
       "      <td>0</td>\n",
       "      <td>0</td>\n",
       "      <td>1</td>\n",
       "    </tr>\n",
       "    <tr>\n",
       "      <th>3</th>\n",
       "      <td>2S9E81J</td>\n",
       "      <td>1/8/2019</td>\n",
       "      <td>M</td>\n",
       "      <td>1990</td>\n",
       "      <td>1X1H</td>\n",
       "      <td>0</td>\n",
       "      <td>0</td>\n",
       "      <td>0</td>\n",
       "      <td>0</td>\n",
       "      <td>0</td>\n",
       "      <td>...</td>\n",
       "      <td>0</td>\n",
       "      <td>0</td>\n",
       "      <td>0</td>\n",
       "      <td>1</td>\n",
       "      <td>0</td>\n",
       "      <td>0</td>\n",
       "      <td>0</td>\n",
       "      <td>0</td>\n",
       "      <td>0</td>\n",
       "      <td>0</td>\n",
       "    </tr>\n",
       "    <tr>\n",
       "      <th>4</th>\n",
       "      <td>BHDYVFT</td>\n",
       "      <td>1/8/2019</td>\n",
       "      <td>M</td>\n",
       "      <td>1990</td>\n",
       "      <td>748L</td>\n",
       "      <td>0</td>\n",
       "      <td>0</td>\n",
       "      <td>0</td>\n",
       "      <td>0</td>\n",
       "      <td>0</td>\n",
       "      <td>...</td>\n",
       "      <td>0</td>\n",
       "      <td>0</td>\n",
       "      <td>0</td>\n",
       "      <td>0</td>\n",
       "      <td>0</td>\n",
       "      <td>0</td>\n",
       "      <td>1</td>\n",
       "      <td>1</td>\n",
       "      <td>0</td>\n",
       "      <td>0</td>\n",
       "    </tr>\n",
       "  </tbody>\n",
       "</table>\n",
       "<p>5 rows × 26 columns</p>\n",
       "</div>"
      ],
      "text/plain": [
       "        ID join_date sex  birth_year branch_code  P1  P2  P3  P4  P5  ...  \\\n",
       "0  4WKQSBB  1/2/2019   F        1987        1X1H   0   0   0   0   0  ...   \n",
       "1  CP5S02H  1/6/2019   F        1981        UAOD   0   0   0   0   0  ...   \n",
       "2  2YKDILJ  1/6/2013   M        1991        748L   0   0   0   0   0  ...   \n",
       "3  2S9E81J  1/8/2019   M        1990        1X1H   0   0   0   0   0  ...   \n",
       "4  BHDYVFT  1/8/2019   M        1990        748L   0   0   0   0   0  ...   \n",
       "\n",
       "   P12  P13  P14  P15  P16  P17  P18  P19  P20  P21  \n",
       "0    0    0    0    1    0    0    0    0    0    0  \n",
       "1    0    0    0    1    0    0    0    0    0    0  \n",
       "2    0    0    0    0    0    0    0    0    0    1  \n",
       "3    0    0    0    1    0    0    0    0    0    0  \n",
       "4    0    0    0    0    0    0    1    1    0    0  \n",
       "\n",
       "[5 rows x 26 columns]"
      ]
     },
     "execution_count": 1,
     "metadata": {},
     "output_type": "execute_result"
    }
   ],
   "source": [
    "import pandas as pd\n",
    "import numpy as np\n",
    "\n",
    "# !pip install mlxtend\n",
    "from mlxtend.preprocessing import TransactionEncoder\n",
    "from mlxtend.frequent_patterns import apriori\n",
    "from mlxtend.frequent_patterns import association_rules\n",
    "\n",
    "from scipy.stats import chi2_contingency\n",
    "\n",
    "dat=pd.read_csv('data/Train2.csv')\n",
    "dat.head(5)"
   ]
  },
  {
   "cell_type": "markdown",
   "id": "determined-arnold",
   "metadata": {},
   "source": [
    "* 다음의 전처리를 먼저 수행한 후 분석 진행하시오.\n",
    "\n",
    "\n",
    "    단계 1-1. 가입 일자(join_date) 컬럼의 연도 정보를 이용하여 가입 연령(변수명: reg_age) 컬럼을 추가하시오.   \n",
    "            reg_age = 가입 연도 - 출생 연도 + 1"
   ]
  },
  {
   "cell_type": "code",
   "execution_count": 2,
   "id": "covered-inventory",
   "metadata": {},
   "outputs": [
    {
     "data": {
      "text/html": [
       "<div>\n",
       "<style scoped>\n",
       "    .dataframe tbody tr th:only-of-type {\n",
       "        vertical-align: middle;\n",
       "    }\n",
       "\n",
       "    .dataframe tbody tr th {\n",
       "        vertical-align: top;\n",
       "    }\n",
       "\n",
       "    .dataframe thead th {\n",
       "        text-align: right;\n",
       "    }\n",
       "</style>\n",
       "<table border=\"1\" class=\"dataframe\">\n",
       "  <thead>\n",
       "    <tr style=\"text-align: right;\">\n",
       "      <th></th>\n",
       "      <th>join_date</th>\n",
       "      <th>birth_year</th>\n",
       "      <th>reg_age</th>\n",
       "    </tr>\n",
       "  </thead>\n",
       "  <tbody>\n",
       "    <tr>\n",
       "      <th>0</th>\n",
       "      <td>1/2/2019</td>\n",
       "      <td>1987</td>\n",
       "      <td>33</td>\n",
       "    </tr>\n",
       "    <tr>\n",
       "      <th>1</th>\n",
       "      <td>1/6/2019</td>\n",
       "      <td>1981</td>\n",
       "      <td>39</td>\n",
       "    </tr>\n",
       "    <tr>\n",
       "      <th>2</th>\n",
       "      <td>1/6/2013</td>\n",
       "      <td>1991</td>\n",
       "      <td>23</td>\n",
       "    </tr>\n",
       "    <tr>\n",
       "      <th>3</th>\n",
       "      <td>1/8/2019</td>\n",
       "      <td>1990</td>\n",
       "      <td>30</td>\n",
       "    </tr>\n",
       "    <tr>\n",
       "      <th>4</th>\n",
       "      <td>1/8/2019</td>\n",
       "      <td>1990</td>\n",
       "      <td>30</td>\n",
       "    </tr>\n",
       "  </tbody>\n",
       "</table>\n",
       "</div>"
      ],
      "text/plain": [
       "  join_date  birth_year  reg_age\n",
       "0  1/2/2019        1987       33\n",
       "1  1/6/2019        1981       39\n",
       "2  1/6/2013        1991       23\n",
       "3  1/8/2019        1990       30\n",
       "4  1/8/2019        1990       30"
      ]
     },
     "execution_count": 2,
     "metadata": {},
     "output_type": "execute_result"
    }
   ],
   "source": [
    "step1=dat.copy()\n",
    "\n",
    "step1=step1.dropna(subset=['join_date'])  # join_date 기준 결측치 제거\n",
    "step1['reg_age']=pd.to_datetime(step1['join_date']).dt.year - step1['birth_year'] + 1\n",
    "\n",
    "step1[['join_date','birth_year','reg_age']].head(5)"
   ]
  },
  {
   "cell_type": "code",
   "execution_count": 3,
   "id": "baking-league",
   "metadata": {},
   "outputs": [
    {
     "data": {
      "text/plain": [
       "0"
      ]
     },
     "execution_count": 3,
     "metadata": {},
     "output_type": "execute_result"
    }
   ],
   "source": [
    "step1['join_date'].isna().sum()"
   ]
  },
  {
   "cell_type": "markdown",
   "id": "interpreted-portrait",
   "metadata": {},
   "source": [
    "    단계 1-2. 가입한 보험 상품의 수가 4개 이상(>=)인 고객은 VIP로 분류하는 VIP 컬럼을 추가하시오.  \n",
    "        IF 가입한 보험 상품의 수 >= 4 then ‘VIP’ else ‘Not VIP’  (VIP는 총 1,231명)"
   ]
  },
  {
   "cell_type": "code",
   "execution_count": 4,
   "id": "commercial-victoria",
   "metadata": {},
   "outputs": [
    {
     "name": "stdout",
     "output_type": "stream",
     "text": [
      "0    2\n",
      "1    2\n",
      "2    3\n",
      "3    2\n",
      "4    2\n",
      "dtype: int64\n",
      "0    Not VIP\n",
      "1    Not VIP\n",
      "2    Not VIP\n",
      "3    Not VIP\n",
      "4    Not VIP\n",
      "Name: VIP, dtype: object\n"
     ]
    }
   ],
   "source": [
    "step2=step1.copy()\n",
    "\n",
    "tab1=step2.loc[:, 'P1':'P21'].sum(axis=1)\n",
    "step2['VIP']=np.where(tab1 >= 4, 'VIP', 'Not VIP')\n",
    "\n",
    "print(tab1.head(5))\n",
    "print(step2['VIP'].head(5))\n",
    "\n",
    "basetable1=step2.copy()"
   ]
  },
  {
   "cell_type": "markdown",
   "id": "silent-metropolitan",
   "metadata": {},
   "source": [
    "* 상기 전처리를 완료한 데이터 프레임(데이터 프레임명: basetable1, 212 Rows)으로 다음 분석(문제 1~3) 수행\n",
    "\n",
    "1. (basetable1을 이용) 모집 사무소(branch_code) 별 가입 연령의 평균을 집계하고, 이 값이 가장 큰 모집 사무소를 기술하시오.  \n",
    "(답안 예시) ABC\n"
   ]
  },
  {
   "cell_type": "code",
   "execution_count": 5,
   "id": "likely-salmon",
   "metadata": {},
   "outputs": [
    {
     "data": {
      "text/plain": [
       "29130"
      ]
     },
     "execution_count": 5,
     "metadata": {},
     "output_type": "execute_result"
    }
   ],
   "source": [
    "len(basetable1)"
   ]
  },
  {
   "cell_type": "code",
   "execution_count": 6,
   "id": "labeled-leader",
   "metadata": {},
   "outputs": [
    {
     "name": "stdout",
     "output_type": "stream",
     "text": [
      "Q1 정답:  ['49BM']\n"
     ]
    }
   ],
   "source": [
    "Q1_ans=basetable1.pivot_table(index='branch_code', values='reg_age', aggfunc='mean').idxmax().values\n",
    "print('Q1 정답: ', Q1_ans)"
   ]
  },
  {
   "cell_type": "markdown",
   "id": "funded-bearing",
   "metadata": {},
   "source": [
    "2. (basetable1을 이용) 고객의 VIP 여부가 성별(sex)과 서로 독립이라 할 수 있는지 적절한 검정을 수행하고, 검정 결과 p-value를 기술하시오.  \n",
    "\n",
    "    - p-value는 소수점 셋째 자리 이하는 버리고 소수점 둘째 자리까지 기술  \n",
    "        (답안 예시) 0.1234\n"
   ]
  },
  {
   "cell_type": "code",
   "execution_count": 7,
   "id": "pressed-coffee",
   "metadata": {},
   "outputs": [
    {
     "name": "stdout",
     "output_type": "stream",
     "text": [
      "(4.045680432825536, 0.0442845227544766, 1, array([[ 8431.29763131, 19468.70236869],\n",
      "       [  371.70236869,   858.29763131]]))\n",
      "\n",
      " Q3 정답:  0.0442845227544766\n"
     ]
    }
   ],
   "source": [
    "Q2=pd.crosstab(basetable1.VIP, basetable1.sex)\n",
    "\n",
    "Q2_out=chi2_contingency(Q2,correction=False)\n",
    "\n",
    "print(Q2_out)\n",
    "\n",
    "\n",
    "Q2_ans=Q2_out[1]\n",
    "\n",
    "print('\\n Q3 정답: ', Q2_ans)"
   ]
  },
  {
   "cell_type": "markdown",
   "id": "brief-friendship",
   "metadata": {},
   "source": [
    "3. (basetable1을 이용) 고객들이 어떤 보험 상품들을 같이 가입했는지 연관성 분석을 다음 조건에 따라 수행하고자 한다.  \n",
    "\n",
    "    - 21 개의 보험 상품(P1~P21 활용)을 분석 대상으로 하며, 1개의 보험상품에만 가입한 고객은 분석에서 제외\n",
    "    \n",
    "    - (Association Rule 모델 가이드) Min Support: 0.01, Min Confidence: 0.01, 그 외: Default\n",
    "\n",
    "    연관성 분석 결과 중, 선행(antecedent)과 후행(consequent)이 단일 아이템으로 구성된 rule만 추출하시오. \n",
    "    이 결과를 활용하여, 보험상품 'P15'에 가입한 고객에게 추천하기 적합한 보험 상품을 Lift 기준(내림차순)으로 선정하고,\n",
    "    그 때의 Lift를 기술하시오.\n",
    "    \n",
    "    \n",
    "    - Lift는 소수점 넷째 자리 이하는 버리고 셋째 자리까지만 기술하시오.   \n",
    "        (답안예시) 1.234  \n",
    "\n"
   ]
  },
  {
   "cell_type": "code",
   "execution_count": 8,
   "id": "comic-haven",
   "metadata": {},
   "outputs": [
    {
     "name": "stdout",
     "output_type": "stream",
     "text": [
      "Q3 정답:  1.3077626374413094\n"
     ]
    }
   ],
   "source": [
    "Q3=basetable1.loc[:,'P1':'P21'].copy()\n",
    "\n",
    "Q3_1=Q3[Q3.sum(axis=1) > 1]\n",
    "\n",
    "apr=apriori(Q3_1, min_support=0.01, max_len=2, use_colnames=True)\n",
    "Q3_out1=association_rules(apr, metric='confidence', min_threshold=0.01)\n",
    "\n",
    "Q3_out2=Q3_out1[Q3_out1['antecedents']=={'P15'}]\n",
    "\n",
    "Q3_out3=Q3_out2.sort_values(by='lift', ascending=False)\n",
    "Q3_ans=Q3_out3['lift'].values[0]\n",
    "\n",
    "print('Q3 정답: ', Q3_ans)  # 1.3079176923800797"
   ]
  }
 ],
 "metadata": {
  "kernelspec": {
   "display_name": "Python 3",
   "language": "python",
   "name": "python3"
  },
  "language_info": {
   "codemirror_mode": {
    "name": "ipython",
    "version": 3
   },
   "file_extension": ".py",
   "mimetype": "text/x-python",
   "name": "python",
   "nbconvert_exporter": "python",
   "pygments_lexer": "ipython3",
   "version": "3.8.5"
  }
 },
 "nbformat": 4,
 "nbformat_minor": 5
}
